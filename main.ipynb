{
 "cells": [
  {
   "cell_type": "code",
   "execution_count": 1,
   "metadata": {},
   "outputs": [
    {
     "output_type": "stream",
     "name": "stdout",
     "text": "WARNING:tensorflow:From /data0/ultraman/BERT-Pruning/bert/optimization.py:87: The name tf.train.Optimizer is deprecated. Please use tf.compat.v1.train.Optimizer instead.\n\nWARNING:tensorflow:\nThe TensorFlow contrib module will not be included in TensorFlow 2.0.\nFor more information, please see:\n  * https://github.com/tensorflow/community/blob/master/rfcs/20180907-contrib-sunset.md\n  * https://github.com/tensorflow/addons\n  * https://github.com/tensorflow/io (for I/O related ops)\nIf you depend on functionality not listed there, please file an issue.\n\n"
    }
   ],
   "source": [
    "import sys\n",
    "sys.path.append(sys.path[0] + '/bert')\n",
    "sys.path.append(sys.path[0] + '/flop')\n",
    "import modeling\n",
    "import optimization\n",
    "import tokenization\n",
    "import run_classifier\n",
    "import tensorflow as tf\n",
    "import tensorflow.contrib.slim as slim\n",
    "import modeling_flop"
   ]
  },
  {
   "cell_type": "code",
   "execution_count": 2,
   "metadata": {},
   "outputs": [
    {
     "output_type": "stream",
     "name": "stdout",
     "text": "WARNING:tensorflow:From /data0/ultraman/BERT-Pruning/bert/modeling.py:93: The name tf.gfile.GFile is deprecated. Please use tf.io.gfile.GFile instead.\n\n"
    }
   ],
   "source": [
    "tf.logging.set_verbosity(tf.logging.DEBUG)\n",
    "flags = {\n",
    "    'do_lower_case': True,\n",
    "    'bert_config_file': '/data0/ultraman/uncased_L-12_H-768_A-12/bert_config.json',\n",
    "    'init_checkpoint': '/data0/ultraman/uncased_L-12_H-768_A-12/bert_model.ckpt',\n",
    "    'vocab_file': '/data0/ultraman/uncased_L-12_H-768_A-12/vocab.txt',\n",
    "    'use_tpu': False,\n",
    "    'data_dir': '/data0/ultraman/datasets/MNLI',\n",
    "    'task_name': 'MNLI',\n",
    "    'learning_rate': 5e-5,\n",
    "    'is_training': False,\n",
    "    'train_batch_size': 32,\n",
    "    'num_train_epochs': 3.0,\n",
    "    'warmup_proportion': 0.1,\n",
    "    'predict_batch_size': 8,\n",
    "    'eval_batch_size': 8,\n",
    "    'output_dir': './temp_files',\n",
    "    \n",
    "}\n",
    "tokenization.validate_case_matches_checkpoint(flags['do_lower_case'],\n",
    "flags['init_checkpoint'])\n",
    "processors = {\n",
    "      \"cola\": run_classifier.ColaProcessor,\n",
    "      \"mnli\": run_classifier.MnliProcessor,\n",
    "      \"mrpc\": run_classifier.MrpcProcessor,\n",
    "      \"xnli\": run_classifier.XnliProcessor,\n",
    "      \"mnli\": run_classifier.MnliProcessor,\n",
    "      \"qnli\": run_classifier.QnliProcessor,\n",
    "      \"qqp\": run_classifier.QqpProcessor,\n",
    "      \"rte\": run_classifier.RteProcessor,\n",
    "      \"wnli\": run_classifier.WnliProcessor,\n",
    "      \"sst-2\": run_classifier.Sst2Processor,\n",
    "      \"mrpc\": run_classifier.MrpcProcessor,\n",
    "      \"sts-b\": run_classifier.StsProcessor,\n",
    "  }"
   ]
  },
  {
   "cell_type": "code",
   "execution_count": 3,
   "metadata": {},
   "outputs": [
    {
     "output_type": "stream",
     "name": "stdout",
     "text": "WARNING:tensorflow:From /data0/ultraman/BERT-Pruning/flop/modeling_hardconcrete.py:44: The name tf.variable_scope is deprecated. Please use tf.compat.v1.variable_scope instead.\n\nWARNING:tensorflow:From /data0/ultraman/BERT-Pruning/bert/modeling.py:409: The name tf.get_variable is deprecated. Please use tf.compat.v1.get_variable instead.\n\nWARNING:tensorflow:From /data0/ultraman/BERT-Pruning/bert/modeling.py:490: The name tf.assert_less_equal is deprecated. Please use tf.compat.v1.assert_less_equal instead.\n\nWARNING:tensorflow:From /data0/ultraman/BERT-Pruning/flop/modeling_hardconcrete.py:166: dense (from tensorflow.python.layers.core) is deprecated and will be removed in a future version.\nInstructions for updating:\nUse keras.layers.Dense instead.\nWARNING:tensorflow:From /home/ultraman/anaconda3/envs/tensorflow-1.15.0/lib/python3.7/site-packages/tensorflow_core/python/layers/core.py:187: Layer.apply (from tensorflow.python.keras.engine.base_layer) is deprecated and will be removed in a future version.\nInstructions for updating:\nPlease use `layer.__call__` method instead.\n"
    }
   ],
   "source": [
    "bert_config = modeling.BertConfig.from_json_file(flags['bert_config_file'])\n",
    "input_ids = tf.constant([[31, 51, 99], [15, 5, 0]])\n",
    "model = modeling_flop.BertModelHardConcrete(\n",
    "    config=bert_config,\n",
    "    is_training=False,\n",
    "    input_ids=input_ids)"
   ]
  },
  {
   "cell_type": "code",
   "execution_count": 5,
   "metadata": {
    "tags": [
     "outputPrepend"
    ]
   },
   "outputs": [
    {
     "output_type": "stream",
     "name": "stdout",
     "text": "self/value_p/bias:0 (float32_ref 768) [768, bytes: 3072]\nbert/encoder/layer_2/attention/output/dense_q/kernel:0 (float32_ref 768x768) [589824, bytes: 2359296]\nbert/encoder/layer_2/attention/output/dense_p/kernel:0 (float32_ref 768x768) [589824, bytes: 2359296]\nbert/encoder/layer_2/attention/output/dense_p/bias:0 (float32_ref 768) [768, bytes: 3072]\nbert/encoder/layer_2/attention/output/LayerNorm/beta:0 (float32_ref 768) [768, bytes: 3072]\nbert/encoder/layer_2/attention/output/LayerNorm/gamma:0 (float32_ref 768) [768, bytes: 3072]\nbert/encoder/layer_2/intermediate/dense_q/kernel:0 (float32_ref 768x768) [589824, bytes: 2359296]\nbert/encoder/layer_2/intermediate/dense_p/kernel:0 (float32_ref 768x3072) [2359296, bytes: 9437184]\nbert/encoder/layer_2/intermediate/dense_p/bias:0 (float32_ref 3072) [3072, bytes: 12288]\nbert/encoder/layer_2/output/dense_q/kernel:0 (float32_ref 3072x768) [2359296, bytes: 9437184]\nbert/encoder/layer_2/output/dense_p/kernel:0 (float32_ref 768x768) [589824, bytes: 2359296]\nbert/encoder/layer_2/output/dense_p/bias:0 (float32_ref 768) [768, bytes: 3072]\nbert/encoder/layer_2/output/LayerNorm/beta:0 (float32_ref 768) [768, bytes: 3072]\nbert/encoder/layer_2/output/LayerNorm/gamma:0 (float32_ref 768) [768, bytes: 3072]\nbert/encoder/layer_3/attention/self/query_q/kernel:0 (float32_ref 768x768) [589824, bytes: 2359296]\nbert/encoder/layer_3/attention/self/query_p/kernel:0 (float32_ref 768x768) [589824, bytes: 2359296]\nbert/encoder/layer_3/attention/self/query_p/bias:0 (float32_ref 768) [768, bytes: 3072]\nbert/encoder/layer_3/attention/self/key_q/kernel:0 (float32_ref 768x768) [589824, bytes: 2359296]\nbert/encoder/layer_3/attention/self/key_p/kernel:0 (float32_ref 768x768) [589824, bytes: 2359296]\nbert/encoder/layer_3/attention/self/key_p/bias:0 (float32_ref 768) [768, bytes: 3072]\nbert/encoder/layer_3/attention/self/value_q/kernel:0 (float32_ref 768x768) [589824, bytes: 2359296]\nbert/encoder/layer_3/attention/self/value_p/kernel:0 (float32_ref 768x768) [589824, bytes: 2359296]\nbert/encoder/layer_3/attention/self/value_p/bias:0 (float32_ref 768) [768, bytes: 3072]\nbert/encoder/layer_3/attention/output/dense_q/kernel:0 (float32_ref 768x768) [589824, bytes: 2359296]\nbert/encoder/layer_3/attention/output/dense_p/kernel:0 (float32_ref 768x768) [589824, bytes: 2359296]\nbert/encoder/layer_3/attention/output/dense_p/bias:0 (float32_ref 768) [768, bytes: 3072]\nbert/encoder/layer_3/attention/output/LayerNorm/beta:0 (float32_ref 768) [768, bytes: 3072]\nbert/encoder/layer_3/attention/output/LayerNorm/gamma:0 (float32_ref 768) [768, bytes: 3072]\nbert/encoder/layer_3/intermediate/dense_q/kernel:0 (float32_ref 768x768) [589824, bytes: 2359296]\nbert/encoder/layer_3/intermediate/dense_p/kernel:0 (float32_ref 768x3072) [2359296, bytes: 9437184]\nbert/encoder/layer_3/intermediate/dense_p/bias:0 (float32_ref 3072) [3072, bytes: 12288]\nbert/encoder/layer_3/output/dense_q/kernel:0 (float32_ref 3072x768) [2359296, bytes: 9437184]\nbert/encoder/layer_3/output/dense_p/kernel:0 (float32_ref 768x768) [589824, bytes: 2359296]\nbert/encoder/layer_3/output/dense_p/bias:0 (float32_ref 768) [768, bytes: 3072]\nbert/encoder/layer_3/output/LayerNorm/beta:0 (float32_ref 768) [768, bytes: 3072]\nbert/encoder/layer_3/output/LayerNorm/gamma:0 (float32_ref 768) [768, bytes: 3072]\nbert/encoder/layer_4/attention/self/query_q/kernel:0 (float32_ref 768x768) [589824, bytes: 2359296]\nbert/encoder/layer_4/attention/self/query_p/kernel:0 (float32_ref 768x768) [589824, bytes: 2359296]\nbert/encoder/layer_4/attention/self/query_p/bias:0 (float32_ref 768) [768, bytes: 3072]\nbert/encoder/layer_4/attention/self/key_q/kernel:0 (float32_ref 768x768) [589824, bytes: 2359296]\nbert/encoder/layer_4/attention/self/key_p/kernel:0 (float32_ref 768x768) [589824, bytes: 2359296]\nbert/encoder/layer_4/attention/self/key_p/bias:0 (float32_ref 768) [768, bytes: 3072]\nbert/encoder/layer_4/attention/self/value_q/kernel:0 (float32_ref 768x768) [589824, bytes: 2359296]\nbert/encoder/layer_4/attention/self/value_p/kernel:0 (float32_ref 768x768) [589824, bytes: 2359296]\nbert/encoder/layer_4/attention/self/value_p/bias:0 (float32_ref 768) [768, bytes: 3072]\nbert/encoder/layer_4/attention/output/dense_q/kernel:0 (float32_ref 768x768) [589824, bytes: 2359296]\nbert/encoder/layer_4/attention/output/dense_p/kernel:0 (float32_ref 768x768) [589824, bytes: 2359296]\nbert/encoder/layer_4/attention/output/dense_p/bias:0 (float32_ref 768) [768, bytes: 3072]\nbert/encoder/layer_4/attention/output/LayerNorm/beta:0 (float32_ref 768) [768, bytes: 3072]\nbert/encoder/layer_4/attention/output/LayerNorm/gamma:0 (float32_ref 768) [768, bytes: 3072]\nbert/encoder/layer_4/intermediate/dense_q/kernel:0 (float32_ref 768x768) [589824, bytes: 2359296]\nbert/encoder/layer_4/intermediate/dense_p/kernel:0 (float32_ref 768x3072) [2359296, bytes: 9437184]\nbert/encoder/layer_4/intermediate/dense_p/bias:0 (float32_ref 3072) [3072, bytes: 12288]\nbert/encoder/layer_4/output/dense_q/kernel:0 (float32_ref 3072x768) [2359296, bytes: 9437184]\nbert/encoder/layer_4/output/dense_p/kernel:0 (float32_ref 768x768) [589824, bytes: 2359296]\nbert/encoder/layer_4/output/dense_p/bias:0 (float32_ref 768) [768, bytes: 3072]\nbert/encoder/layer_4/output/LayerNorm/beta:0 (float32_ref 768) [768, bytes: 3072]\nbert/encoder/layer_4/output/LayerNorm/gamma:0 (float32_ref 768) [768, bytes: 3072]\nbert/encoder/layer_5/attention/self/query_q/kernel:0 (float32_ref 768x768) [589824, bytes: 2359296]\nbert/encoder/layer_5/attention/self/query_p/kernel:0 (float32_ref 768x768) [589824, bytes: 2359296]\nbert/encoder/layer_5/attention/self/query_p/bias:0 (float32_ref 768) [768, bytes: 3072]\nbert/encoder/layer_5/attention/self/key_q/kernel:0 (float32_ref 768x768) [589824, bytes: 2359296]\nbert/encoder/layer_5/attention/self/key_p/kernel:0 (float32_ref 768x768) [589824, bytes: 2359296]\nbert/encoder/layer_5/attention/self/key_p/bias:0 (float32_ref 768) [768, bytes: 3072]\nbert/encoder/layer_5/attention/self/value_q/kernel:0 (float32_ref 768x768) [589824, bytes: 2359296]\nbert/encoder/layer_5/attention/self/value_p/kernel:0 (float32_ref 768x768) [589824, bytes: 2359296]\nbert/encoder/layer_5/attention/self/value_p/bias:0 (float32_ref 768) [768, bytes: 3072]\nbert/encoder/layer_5/attention/output/dense_q/kernel:0 (float32_ref 768x768) [589824, bytes: 2359296]\nbert/encoder/layer_5/attention/output/dense_p/kernel:0 (float32_ref 768x768) [589824, bytes: 2359296]\nbert/encoder/layer_5/attention/output/dense_p/bias:0 (float32_ref 768) [768, bytes: 3072]\nbert/encoder/layer_5/attention/output/LayerNorm/beta:0 (float32_ref 768) [768, bytes: 3072]\nbert/encoder/layer_5/attention/output/LayerNorm/gamma:0 (float32_ref 768) [768, bytes: 3072]\nbert/encoder/layer_5/intermediate/dense_q/kernel:0 (float32_ref 768x768) [589824, bytes: 2359296]\nbert/encoder/layer_5/intermediate/dense_p/kernel:0 (float32_ref 768x3072) [2359296, bytes: 9437184]\nbert/encoder/layer_5/intermediate/dense_p/bias:0 (float32_ref 3072) [3072, bytes: 12288]\nbert/encoder/layer_5/output/dense_q/kernel:0 (float32_ref 3072x768) [2359296, bytes: 9437184]\nbert/encoder/layer_5/output/dense_p/kernel:0 (float32_ref 768x768) [589824, bytes: 2359296]\nbert/encoder/layer_5/output/dense_p/bias:0 (float32_ref 768) [768, bytes: 3072]\nbert/encoder/layer_5/output/LayerNorm/beta:0 (float32_ref 768) [768, bytes: 3072]\nbert/encoder/layer_5/output/LayerNorm/gamma:0 (float32_ref 768) [768, bytes: 3072]\nbert/encoder/layer_6/attention/self/query_q/kernel:0 (float32_ref 768x768) [589824, bytes: 2359296]\nbert/encoder/layer_6/attention/self/query_p/kernel:0 (float32_ref 768x768) [589824, bytes: 2359296]\nbert/encoder/layer_6/attention/self/query_p/bias:0 (float32_ref 768) [768, bytes: 3072]\nbert/encoder/layer_6/attention/self/key_q/kernel:0 (float32_ref 768x768) [589824, bytes: 2359296]\nbert/encoder/layer_6/attention/self/key_p/kernel:0 (float32_ref 768x768) [589824, bytes: 2359296]\nbert/encoder/layer_6/attention/self/key_p/bias:0 (float32_ref 768) [768, bytes: 3072]\nbert/encoder/layer_6/attention/self/value_q/kernel:0 (float32_ref 768x768) [589824, bytes: 2359296]\nbert/encoder/layer_6/attention/self/value_p/kernel:0 (float32_ref 768x768) [589824, bytes: 2359296]\nbert/encoder/layer_6/attention/self/value_p/bias:0 (float32_ref 768) [768, bytes: 3072]\nbert/encoder/layer_6/attention/output/dense_q/kernel:0 (float32_ref 768x768) [589824, bytes: 2359296]\nbert/encoder/layer_6/attention/output/dense_p/kernel:0 (float32_ref 768x768) [589824, bytes: 2359296]\nbert/encoder/layer_6/attention/output/dense_p/bias:0 (float32_ref 768) [768, bytes: 3072]\nbert/encoder/layer_6/attention/output/LayerNorm/beta:0 (float32_ref 768) [768, bytes: 3072]\nbert/encoder/layer_6/attention/output/LayerNorm/gamma:0 (float32_ref 768) [768, bytes: 3072]\nbert/encoder/layer_6/intermediate/dense_q/kernel:0 (float32_ref 768x768) [589824, bytes: 2359296]\nbert/encoder/layer_6/intermediate/dense_p/kernel:0 (float32_ref 768x3072) [2359296, bytes: 9437184]\nbert/encoder/layer_6/intermediate/dense_p/bias:0 (float32_ref 3072) [3072, bytes: 12288]\nbert/encoder/layer_6/output/dense_q/kernel:0 (float32_ref 3072x768) [2359296, bytes: 9437184]\nbert/encoder/layer_6/output/dense_p/kernel:0 (float32_ref 768x768) [589824, bytes: 2359296]\nbert/encoder/layer_6/output/dense_p/bias:0 (float32_ref 768) [768, bytes: 3072]\nbert/encoder/layer_6/output/LayerNorm/beta:0 (float32_ref 768) [768, bytes: 3072]\nbert/encoder/layer_6/output/LayerNorm/gamma:0 (float32_ref 768) [768, bytes: 3072]\nbert/encoder/layer_7/attention/self/query_q/kernel:0 (float32_ref 768x768) [589824, bytes: 2359296]\nbert/encoder/layer_7/attention/self/query_p/kernel:0 (float32_ref 768x768) [589824, bytes: 2359296]\nbert/encoder/layer_7/attention/self/query_p/bias:0 (float32_ref 768) [768, bytes: 3072]\nbert/encoder/layer_7/attention/self/key_q/kernel:0 (float32_ref 768x768) [589824, bytes: 2359296]\nbert/encoder/layer_7/attention/self/key_p/kernel:0 (float32_ref 768x768) [589824, bytes: 2359296]\nbert/encoder/layer_7/attention/self/key_p/bias:0 (float32_ref 768) [768, bytes: 3072]\nbert/encoder/layer_7/attention/self/value_q/kernel:0 (float32_ref 768x768) [589824, bytes: 2359296]\nbert/encoder/layer_7/attention/self/value_p/kernel:0 (float32_ref 768x768) [589824, bytes: 2359296]\nbert/encoder/layer_7/attention/self/value_p/bias:0 (float32_ref 768) [768, bytes: 3072]\nbert/encoder/layer_7/attention/output/dense_q/kernel:0 (float32_ref 768x768) [589824, bytes: 2359296]\nbert/encoder/layer_7/attention/output/dense_p/kernel:0 (float32_ref 768x768) [589824, bytes: 2359296]\nbert/encoder/layer_7/attention/output/dense_p/bias:0 (float32_ref 768) [768, bytes: 3072]\nbert/encoder/layer_7/attention/output/LayerNorm/beta:0 (float32_ref 768) [768, bytes: 3072]\nbert/encoder/layer_7/attention/output/LayerNorm/gamma:0 (float32_ref 768) [768, bytes: 3072]\nbert/encoder/layer_7/intermediate/dense_q/kernel:0 (float32_ref 768x768) [589824, bytes: 2359296]\nbert/encoder/layer_7/intermediate/dense_p/kernel:0 (float32_ref 768x3072) [2359296, bytes: 9437184]\nbert/encoder/layer_7/intermediate/dense_p/bias:0 (float32_ref 3072) [3072, bytes: 12288]\nbert/encoder/layer_7/output/dense_q/kernel:0 (float32_ref 3072x768) [2359296, bytes: 9437184]\nbert/encoder/layer_7/output/dense_p/kernel:0 (float32_ref 768x768) [589824, bytes: 2359296]\nbert/encoder/layer_7/output/dense_p/bias:0 (float32_ref 768) [768, bytes: 3072]\nbert/encoder/layer_7/output/LayerNorm/beta:0 (float32_ref 768) [768, bytes: 3072]\nbert/encoder/layer_7/output/LayerNorm/gamma:0 (float32_ref 768) [768, bytes: 3072]\nbert/encoder/layer_8/attention/self/query_q/kernel:0 (float32_ref 768x768) [589824, bytes: 2359296]\nbert/encoder/layer_8/attention/self/query_p/kernel:0 (float32_ref 768x768) [589824, bytes: 2359296]\nbert/encoder/layer_8/attention/self/query_p/bias:0 (float32_ref 768) [768, bytes: 3072]\nbert/encoder/layer_8/attention/self/key_q/kernel:0 (float32_ref 768x768) [589824, bytes: 2359296]\nbert/encoder/layer_8/attention/self/key_p/kernel:0 (float32_ref 768x768) [589824, bytes: 2359296]\nbert/encoder/layer_8/attention/self/key_p/bias:0 (float32_ref 768) [768, bytes: 3072]\nbert/encoder/layer_8/attention/self/value_q/kernel:0 (float32_ref 768x768) [589824, bytes: 2359296]\nbert/encoder/layer_8/attention/self/value_p/kernel:0 (float32_ref 768x768) [589824, bytes: 2359296]\nbert/encoder/layer_8/attention/self/value_p/bias:0 (float32_ref 768) [768, bytes: 3072]\nbert/encoder/layer_8/attention/output/dense_q/kernel:0 (float32_ref 768x768) [589824, bytes: 2359296]\nbert/encoder/layer_8/attention/output/dense_p/kernel:0 (float32_ref 768x768) [589824, bytes: 2359296]\nbert/encoder/layer_8/attention/output/dense_p/bias:0 (float32_ref 768) [768, bytes: 3072]\nbert/encoder/layer_8/attention/output/LayerNorm/beta:0 (float32_ref 768) [768, bytes: 3072]\nbert/encoder/layer_8/attention/output/LayerNorm/gamma:0 (float32_ref 768) [768, bytes: 3072]\nbert/encoder/layer_8/intermediate/dense_q/kernel:0 (float32_ref 768x768) [589824, bytes: 2359296]\nbert/encoder/layer_8/intermediate/dense_p/kernel:0 (float32_ref 768x3072) [2359296, bytes: 9437184]\nbert/encoder/layer_8/intermediate/dense_p/bias:0 (float32_ref 3072) [3072, bytes: 12288]\nbert/encoder/layer_8/output/dense_q/kernel:0 (float32_ref 3072x768) [2359296, bytes: 9437184]\nbert/encoder/layer_8/output/dense_p/kernel:0 (float32_ref 768x768) [589824, bytes: 2359296]\nbert/encoder/layer_8/output/dense_p/bias:0 (float32_ref 768) [768, bytes: 3072]\nbert/encoder/layer_8/output/LayerNorm/beta:0 (float32_ref 768) [768, bytes: 3072]\nbert/encoder/layer_8/output/LayerNorm/gamma:0 (float32_ref 768) [768, bytes: 3072]\nbert/encoder/layer_9/attention/self/query_q/kernel:0 (float32_ref 768x768) [589824, bytes: 2359296]\nbert/encoder/layer_9/attention/self/query_p/kernel:0 (float32_ref 768x768) [589824, bytes: 2359296]\nbert/encoder/layer_9/attention/self/query_p/bias:0 (float32_ref 768) [768, bytes: 3072]\nbert/encoder/layer_9/attention/self/key_q/kernel:0 (float32_ref 768x768) [589824, bytes: 2359296]\nbert/encoder/layer_9/attention/self/key_p/kernel:0 (float32_ref 768x768) [589824, bytes: 2359296]\nbert/encoder/layer_9/attention/self/key_p/bias:0 (float32_ref 768) [768, bytes: 3072]\nbert/encoder/layer_9/attention/self/value_q/kernel:0 (float32_ref 768x768) [589824, bytes: 2359296]\nbert/encoder/layer_9/attention/self/value_p/kernel:0 (float32_ref 768x768) [589824, bytes: 2359296]\nbert/encoder/layer_9/attention/self/value_p/bias:0 (float32_ref 768) [768, bytes: 3072]\nbert/encoder/layer_9/attention/output/dense_q/kernel:0 (float32_ref 768x768) [589824, bytes: 2359296]\nbert/encoder/layer_9/attention/output/dense_p/kernel:0 (float32_ref 768x768) [589824, bytes: 2359296]\nbert/encoder/layer_9/attention/output/dense_p/bias:0 (float32_ref 768) [768, bytes: 3072]\nbert/encoder/layer_9/attention/output/LayerNorm/beta:0 (float32_ref 768) [768, bytes: 3072]\nbert/encoder/layer_9/attention/output/LayerNorm/gamma:0 (float32_ref 768) [768, bytes: 3072]\nbert/encoder/layer_9/intermediate/dense_q/kernel:0 (float32_ref 768x768) [589824, bytes: 2359296]\nbert/encoder/layer_9/intermediate/dense_p/kernel:0 (float32_ref 768x3072) [2359296, bytes: 9437184]\nbert/encoder/layer_9/intermediate/dense_p/bias:0 (float32_ref 3072) [3072, bytes: 12288]\nbert/encoder/layer_9/output/dense_q/kernel:0 (float32_ref 3072x768) [2359296, bytes: 9437184]\nbert/encoder/layer_9/output/dense_p/kernel:0 (float32_ref 768x768) [589824, bytes: 2359296]\nbert/encoder/layer_9/output/dense_p/bias:0 (float32_ref 768) [768, bytes: 3072]\nbert/encoder/layer_9/output/LayerNorm/beta:0 (float32_ref 768) [768, bytes: 3072]\nbert/encoder/layer_9/output/LayerNorm/gamma:0 (float32_ref 768) [768, bytes: 3072]\nbert/encoder/layer_10/attention/self/query_q/kernel:0 (float32_ref 768x768) [589824, bytes: 2359296]\nbert/encoder/layer_10/attention/self/query_p/kernel:0 (float32_ref 768x768) [589824, bytes: 2359296]\nbert/encoder/layer_10/attention/self/query_p/bias:0 (float32_ref 768) [768, bytes: 3072]\nbert/encoder/layer_10/attention/self/key_q/kernel:0 (float32_ref 768x768) [589824, bytes: 2359296]\nbert/encoder/layer_10/attention/self/key_p/kernel:0 (float32_ref 768x768) [589824, bytes: 2359296]\nbert/encoder/layer_10/attention/self/key_p/bias:0 (float32_ref 768) [768, bytes: 3072]\nbert/encoder/layer_10/attention/self/value_q/kernel:0 (float32_ref 768x768) [589824, bytes: 2359296]\nbert/encoder/layer_10/attention/self/value_p/kernel:0 (float32_ref 768x768) [589824, bytes: 2359296]\nbert/encoder/layer_10/attention/self/value_p/bias:0 (float32_ref 768) [768, bytes: 3072]\nbert/encoder/layer_10/attention/output/dense_q/kernel:0 (float32_ref 768x768) [589824, bytes: 2359296]\nbert/encoder/layer_10/attention/output/dense_p/kernel:0 (float32_ref 768x768) [589824, bytes: 2359296]\nbert/encoder/layer_10/attention/output/dense_p/bias:0 (float32_ref 768) [768, bytes: 3072]\nbert/encoder/layer_10/attention/output/LayerNorm/beta:0 (float32_ref 768) [768, bytes: 3072]\nbert/encoder/layer_10/attention/output/LayerNorm/gamma:0 (float32_ref 768) [768, bytes: 3072]\nbert/encoder/layer_10/intermediate/dense_q/kernel:0 (float32_ref 768x768) [589824, bytes: 2359296]\nbert/encoder/layer_10/intermediate/dense_p/kernel:0 (float32_ref 768x3072) [2359296, bytes: 9437184]\nbert/encoder/layer_10/intermediate/dense_p/bias:0 (float32_ref 3072) [3072, bytes: 12288]\nbert/encoder/layer_10/output/dense_q/kernel:0 (float32_ref 3072x768) [2359296, bytes: 9437184]\nbert/encoder/layer_10/output/dense_p/kernel:0 (float32_ref 768x768) [589824, bytes: 2359296]\nbert/encoder/layer_10/output/dense_p/bias:0 (float32_ref 768) [768, bytes: 3072]\nbert/encoder/layer_10/output/LayerNorm/beta:0 (float32_ref 768) [768, bytes: 3072]\nbert/encoder/layer_10/output/LayerNorm/gamma:0 (float32_ref 768) [768, bytes: 3072]\nbert/encoder/layer_11/attention/self/query_q/kernel:0 (float32_ref 768x768) [589824, bytes: 2359296]\nbert/encoder/layer_11/attention/self/query_p/kernel:0 (float32_ref 768x768) [589824, bytes: 2359296]\nbert/encoder/layer_11/attention/self/query_p/bias:0 (float32_ref 768) [768, bytes: 3072]\nbert/encoder/layer_11/attention/self/key_q/kernel:0 (float32_ref 768x768) [589824, bytes: 2359296]\nbert/encoder/layer_11/attention/self/key_p/kernel:0 (float32_ref 768x768) [589824, bytes: 2359296]\nbert/encoder/layer_11/attention/self/key_p/bias:0 (float32_ref 768) [768, bytes: 3072]\nbert/encoder/layer_11/attention/self/value_q/kernel:0 (float32_ref 768x768) [589824, bytes: 2359296]\nbert/encoder/layer_11/attention/self/value_p/kernel:0 (float32_ref 768x768) [589824, bytes: 2359296]\nbert/encoder/layer_11/attention/self/value_p/bias:0 (float32_ref 768) [768, bytes: 3072]\nbert/encoder/layer_11/attention/output/dense_q/kernel:0 (float32_ref 768x768) [589824, bytes: 2359296]\nbert/encoder/layer_11/attention/output/dense_p/kernel:0 (float32_ref 768x768) [589824, bytes: 2359296]\nbert/encoder/layer_11/attention/output/dense_p/bias:0 (float32_ref 768) [768, bytes: 3072]\nbert/encoder/layer_11/attention/output/LayerNorm/beta:0 (float32_ref 768) [768, bytes: 3072]\nbert/encoder/layer_11/attention/output/LayerNorm/gamma:0 (float32_ref 768) [768, bytes: 3072]\nbert/encoder/layer_11/intermediate/dense_q/kernel:0 (float32_ref 768x768) [589824, bytes: 2359296]\nbert/encoder/layer_11/intermediate/dense_p/kernel:0 (float32_ref 768x3072) [2359296, bytes: 9437184]\nbert/encoder/layer_11/intermediate/dense_p/bias:0 (float32_ref 3072) [3072, bytes: 12288]\nbert/encoder/layer_11/output/dense_q/kernel:0 (float32_ref 3072x768) [2359296, bytes: 9437184]\nbert/encoder/layer_11/output/dense_p/kernel:0 (float32_ref 768x768) [589824, bytes: 2359296]\nbert/encoder/layer_11/output/dense_p/bias:0 (float32_ref 768) [768, bytes: 3072]\nbert/encoder/layer_11/output/LayerNorm/beta:0 (float32_ref 768) [768, bytes: 3072]\nbert/encoder/layer_11/output/LayerNorm/gamma:0 (float32_ref 768) [768, bytes: 3072]\nbert/pooler/dense/kernel:0 (float32_ref 768x768) [589824, bytes: 2359296]\nbert/pooler/dense/bias:0 (float32_ref 768) [768, bytes: 3072]\nTotal size of variables: 151949568\nTotal bytes of variables: 607798272\n"
    }
   ],
   "source": [
    "def model_summary():\n",
    "    model_vars = tf.trainable_variables()\n",
    "    slim.model_analyzer.analyze_vars(model_vars, print_info=True)\n",
    "\n",
    "model_summary()"
   ]
  },
  {
   "cell_type": "code",
   "execution_count": 4,
   "metadata": {},
   "outputs": [],
   "source": [
    "sess = tf.Session()\n",
    " # 保存路径\n",
    "tenboard_dir = './tensorboard/fractorized/123'\n",
    "\n",
    "# 指定一个文件用来保存图\n",
    "writer = tf.summary.FileWriter(tenboard_dir)\n",
    "# 把图add进去\n",
    "writer.add_graph(sess.graph)\n"
   ]
  },
  {
   "cell_type": "code",
   "execution_count": 4,
   "metadata": {
    "tags": [
     "outputPrepend",
     "outputPrepend",
     "outputPrepend",
     "outputPrepend",
     "outputPrepend",
     "outputPrepend",
     "outputPrepend",
     "outputPrepend",
     "outputPrepend",
     "outputPrepend",
     "outputPrepend",
     "outputPrepend",
     "outputPrepend",
     "outputPrepend",
     "outputPrepend",
     "outputPrepend",
     "outputPrepend",
     "outputPrepend",
     "outputPrepend",
     "outputPrepend",
     "outputPrepend",
     "outputPrepend",
     "outputPrepend",
     "outputPrepend",
     "outputPrepend",
     "outputPrepend",
     "outputPrepend",
     "outputPrepend",
     "outputPrepend",
     "outputPrepend",
     "outputPrepend",
     "outputPrepend",
     "outputPrepend",
     "outputPrepend",
     "outputPrepend",
     "outputPrepend",
     "outputPrepend",
     "outputPrepend",
     "outputPrepend",
     "outputPrepend",
     "outputPrepend",
     "outputPrepend",
     "outputPrepend",
     "outputPrepend",
     "outputPrepend",
     "outputPrepend",
     "outputPrepend",
     "outputPrepend",
     "outputPrepend",
     "outputPrepend",
     "outputPrepend",
     "outputPrepend",
     "outputPrepend"
    ]
   },
   "outputs": [
    {
     "output_type": "stream",
     "name": "stdout",
     "text": "M_CKPT*\nINFO:tensorflow:Tensor: bert/encoder/layer_10/attention/self/query_q/bias:0 *INIT_FROM_CKPT*\nINFO:tensorflow:Tensor: bert/encoder/layer_11/intermediate/dense_p/kernel:0 *INIT_FROM_CKPT*\nINFO:tensorflow:Tensor: bert/encoder/layer_11/intermediate/dense_q/kernel:0 *INIT_FROM_CKPT*\nINFO:tensorflow:Tensor: bert/encoder/layer_7/attention/output/dense_p/kernel:0 *INIT_FROM_CKPT*\nINFO:tensorflow:Tensor: bert/encoder/layer_7/attention/output/dense_q/kernel:0 *INIT_FROM_CKPT*\nINFO:tensorflow:Tensor: bert/encoder/layer_11/attention/output/LayerNorm/gamma:0 *INIT_FROM_CKPT*\nINFO:tensorflow:Tensor: bert/encoder/layer_1/output/LayerNorm/gamma:0 *INIT_FROM_CKPT*\nINFO:tensorflow:Tensor: bert/encoder/layer_1/attention/output/LayerNorm/gamma:0 *INIT_FROM_CKPT*\nINFO:tensorflow:Tensor: bert/encoder/layer_9/intermediate/dense_p/kernel:0 *INIT_FROM_CKPT*\nINFO:tensorflow:Tensor: bert/encoder/layer_9/intermediate/dense_q/kernel:0 *INIT_FROM_CKPT*\nINFO:tensorflow:Tensor: bert/encoder/layer_10/output/LayerNorm/beta:0 *INIT_FROM_CKPT*\nINFO:tensorflow:Tensor: bert/encoder/layer_2/attention/self/query_p/kernel:0 *INIT_FROM_CKPT*\nINFO:tensorflow:Tensor: bert/encoder/layer_2/attention/self/query_q/kernel:0 *INIT_FROM_CKPT*\nINFO:tensorflow:Tensor: bert/encoder/layer_0/intermediate/dense_p/kernel:0 *INIT_FROM_CKPT*\nINFO:tensorflow:Tensor: bert/encoder/layer_0/intermediate/dense_q/kernel:0 *INIT_FROM_CKPT*\nINFO:tensorflow:Tensor: bert/encoder/layer_0/attention/self/value_p/kernel:0 *INIT_FROM_CKPT*\nINFO:tensorflow:Tensor: bert/encoder/layer_0/attention/self/value_q/kernel:0 *INIT_FROM_CKPT*\nINFO:tensorflow:Tensor: bert/encoder/layer_4/output/LayerNorm/beta:0 *INIT_FROM_CKPT*\nINFO:tensorflow:Tensor: bert/encoder/layer_0/attention/self/value_q/bias:0 *INIT_FROM_CKPT*\nINFO:tensorflow:Tensor: bert/encoder/layer_11/output/LayerNorm/gamma:0 *INIT_FROM_CKPT*\nINFO:tensorflow:Tensor: bert/encoder/layer_4/attention/self/query_p/kernel:0 *INIT_FROM_CKPT*\nINFO:tensorflow:Tensor: bert/encoder/layer_4/attention/self/query_q/kernel:0 *INIT_FROM_CKPT*\nINFO:tensorflow:Tensor: bert/encoder/layer_0/attention/output/LayerNorm/gamma:0 *INIT_FROM_CKPT*\nINFO:tensorflow:Tensor: bert/encoder/layer_3/attention/output/LayerNorm/beta:0 *INIT_FROM_CKPT*\nINFO:tensorflow:Tensor: bert/embeddings/token_type_embeddings:0 *INIT_FROM_CKPT*\nINFO:tensorflow:Tensor: bert/encoder/layer_8/attention/self/value_q/bias:0 *INIT_FROM_CKPT*\nINFO:tensorflow:Tensor: bert/encoder/layer_0/attention/output/LayerNorm/beta:0 *INIT_FROM_CKPT*\nINFO:tensorflow:Tensor: bert/encoder/layer_0/attention/self/key_q/bias:0 *INIT_FROM_CKPT*\nINFO:tensorflow:Tensor: bert/encoder/layer_9/output/LayerNorm/gamma:0 *INIT_FROM_CKPT*\nINFO:tensorflow:Tensor: bert/encoder/layer_11/attention/output/dense_q/bias:0 *INIT_FROM_CKPT*\nINFO:tensorflow:Tensor: bert/encoder/layer_7/attention/self/value_q/bias:0 *INIT_FROM_CKPT*\nINFO:tensorflow:Tensor: bert/encoder/layer_10/attention/output/LayerNorm/beta:0 *INIT_FROM_CKPT*\nINFO:tensorflow:Tensor: bert/encoder/layer_10/intermediate/dense_q/bias:0 *INIT_FROM_CKPT*\nINFO:tensorflow:Tensor: bert/encoder/layer_3/output/dense_p/kernel:0 *INIT_FROM_CKPT*\nINFO:tensorflow:Tensor: bert/encoder/layer_3/output/dense_q/kernel:0 *INIT_FROM_CKPT*\nINFO:tensorflow:Tensor: bert/encoder/layer_8/attention/self/key_q/bias:0 *INIT_FROM_CKPT*\nINFO:tensorflow:Tensor: bert/encoder/layer_3/intermediate/dense_q/bias:0 *INIT_FROM_CKPT*\nINFO:tensorflow:Tensor: bert/embeddings/word_embeddings:0 *INIT_FROM_CKPT*\nINFO:tensorflow:Tensor: bert/encoder/layer_5/attention/self/key_p/kernel:0 *INIT_FROM_CKPT*\nINFO:tensorflow:Tensor: bert/encoder/layer_5/attention/self/key_q/kernel:0 *INIT_FROM_CKPT*\nINFO:tensorflow:Tensor: bert/encoder/layer_11/attention/self/query_p/kernel:0 *INIT_FROM_CKPT*\nINFO:tensorflow:Tensor: bert/encoder/layer_11/attention/self/query_q/kernel:0 *INIT_FROM_CKPT*\nINFO:tensorflow:Tensor: bert/encoder/layer_8/attention/output/dense_q/bias:0 *INIT_FROM_CKPT*\nINFO:tensorflow:Tensor: bert/encoder/layer_1/attention/self/key_q/bias:0 *INIT_FROM_CKPT*\nINFO:tensorflow:Tensor: bert/encoder/layer_8/output/LayerNorm/beta:0 *INIT_FROM_CKPT*\nINFO:tensorflow:Tensor: bert/encoder/layer_5/attention/self/query_p/kernel:0 *INIT_FROM_CKPT*\nINFO:tensorflow:Tensor: bert/encoder/layer_5/attention/self/query_q/kernel:0 *INIT_FROM_CKPT*\nINFO:tensorflow:Tensor: bert/encoder/layer_0/attention/output/dense_p/kernel:0 *INIT_FROM_CKPT*\nINFO:tensorflow:Tensor: bert/encoder/layer_0/attention/output/dense_q/kernel:0 *INIT_FROM_CKPT*\nINFO:tensorflow:Tensor: bert/encoder/layer_2/attention/output/dense_p/kernel:0 *INIT_FROM_CKPT*\nINFO:tensorflow:Tensor: bert/encoder/layer_2/attention/output/dense_q/kernel:0 *INIT_FROM_CKPT*\nINFO:tensorflow:Tensor: bert/encoder/layer_1/attention/self/key_p/kernel:0 *INIT_FROM_CKPT*\nINFO:tensorflow:Tensor: bert/encoder/layer_1/attention/self/key_q/kernel:0 *INIT_FROM_CKPT*\nINFO:tensorflow:Tensor: bert/encoder/layer_2/attention/self/value_p/kernel:0 *INIT_FROM_CKPT*\nINFO:tensorflow:Tensor: bert/encoder/layer_2/attention/self/value_q/kernel:0 *INIT_FROM_CKPT*\nINFO:tensorflow:Tensor: bert/encoder/layer_0/attention/self/query_p/kernel:0 *INIT_FROM_CKPT*\nINFO:tensorflow:Tensor: bert/encoder/layer_0/attention/self/query_q/kernel:0 *INIT_FROM_CKPT*\nINFO:tensorflow:Tensor: bert/encoder/layer_1/attention/output/dense_q/bias:0 *INIT_FROM_CKPT*\nINFO:tensorflow:Tensor: bert/encoder/layer_2/output/dense_p/kernel:0 *INIT_FROM_CKPT*\nINFO:tensorflow:Tensor: bert/encoder/layer_2/output/dense_q/kernel:0 *INIT_FROM_CKPT*\nINFO:tensorflow:Tensor: bert/encoder/layer_2/output/LayerNorm/beta:0 *INIT_FROM_CKPT*\nINFO:tensorflow:Tensor: bert/encoder/layer_1/attention/output/dense_p/kernel:0 *INIT_FROM_CKPT*\nINFO:tensorflow:Tensor: bert/encoder/layer_1/attention/output/dense_q/kernel:0 *INIT_FROM_CKPT*\nINFO:tensorflow:Tensor: bert/encoder/layer_3/attention/self/key_q/bias:0 *INIT_FROM_CKPT*\nINFO:tensorflow:Tensor: bert/encoder/layer_10/attention/output/dense_q/bias:0 *INIT_FROM_CKPT*\nINFO:tensorflow:Tensor: bert/encoder/layer_11/attention/self/value_p/kernel:0 *INIT_FROM_CKPT*\nINFO:tensorflow:Tensor: bert/encoder/layer_11/attention/self/value_q/kernel:0 *INIT_FROM_CKPT*\nINFO:tensorflow:Tensor: bert/encoder/layer_0/attention/self/query_q/bias:0 *INIT_FROM_CKPT*\nINFO:tensorflow:Tensor: bert/encoder/layer_11/attention/self/value_q/bias:0 *INIT_FROM_CKPT*\nINFO:tensorflow:Tensor: bert/encoder/layer_6/attention/self/key_q/bias:0 *INIT_FROM_CKPT*\nINFO:tensorflow:Tensor: bert/encoder/layer_10/attention/self/query_p/kernel:0 *INIT_FROM_CKPT*\nINFO:tensorflow:Tensor: bert/encoder/layer_10/attention/self/query_q/kernel:0 *INIT_FROM_CKPT*\nINFO:tensorflow:Tensor: bert/encoder/layer_6/attention/output/dense_q/bias:0 *INIT_FROM_CKPT*\nINFO:tensorflow:Tensor: bert/encoder/layer_1/attention/self/query_q/bias:0 *INIT_FROM_CKPT*\nINFO:tensorflow:Tensor: bert/encoder/layer_3/attention/self/value_q/bias:0 *INIT_FROM_CKPT*\nINFO:tensorflow:Tensor: bert/encoder/layer_10/attention/self/key_q/bias:0 *INIT_FROM_CKPT*\nINFO:tensorflow:Tensor: bert/encoder/layer_9/attention/output/LayerNorm/beta:0 *INIT_FROM_CKPT*\nINFO:tensorflow:Tensor: bert/encoder/layer_1/attention/self/value_p/kernel:0 *INIT_FROM_CKPT*\nINFO:tensorflow:Tensor: bert/encoder/layer_1/attention/self/value_q/kernel:0 *INIT_FROM_CKPT*\nINFO:tensorflow:Tensor: bert/encoder/layer_0/output/LayerNorm/gamma:0 *INIT_FROM_CKPT*\nINFO:tensorflow:Tensor: bert/encoder/layer_3/output/dense_q/bias:0 *INIT_FROM_CKPT*\nINFO:tensorflow:Tensor: bert/encoder/layer_1/intermediate/dense_p/kernel:0 *INIT_FROM_CKPT*\nINFO:tensorflow:Tensor: bert/encoder/layer_1/intermediate/dense_q/kernel:0 *INIT_FROM_CKPT*\nINFO:tensorflow:Tensor: bert/encoder/layer_3/output/LayerNorm/beta:0 *INIT_FROM_CKPT*\nINFO:tensorflow:Tensor: bert/encoder/layer_5/attention/self/key_q/bias:0 *INIT_FROM_CKPT*\nINFO:tensorflow:Tensor: bert/encoder/layer_3/output/LayerNorm/gamma:0 *INIT_FROM_CKPT*\nINFO:tensorflow:Tensor: bert/encoder/layer_6/output/LayerNorm/beta:0 *INIT_FROM_CKPT*\nINFO:tensorflow:Tensor: bert/encoder/layer_6/attention/output/LayerNorm/beta:0 *INIT_FROM_CKPT*\nINFO:tensorflow:Tensor: bert/encoder/layer_2/output/dense_q/bias:0 *INIT_FROM_CKPT*\nINFO:tensorflow:Tensor: bert/encoder/layer_4/attention/self/key_p/kernel:0 *INIT_FROM_CKPT*\nINFO:tensorflow:Tensor: bert/encoder/layer_4/attention/self/key_q/kernel:0 *INIT_FROM_CKPT*\nINFO:tensorflow:Tensor: bert/encoder/layer_1/output/LayerNorm/beta:0 *INIT_FROM_CKPT*\nINFO:tensorflow:Tensor: bert/encoder/layer_7/attention/self/query_q/bias:0 *INIT_FROM_CKPT*\nINFO:tensorflow:Tensor: bert/encoder/layer_3/attention/self/query_q/bias:0 *INIT_FROM_CKPT*\nINFO:tensorflow:Tensor: bert/encoder/layer_10/attention/self/value_q/bias:0 *INIT_FROM_CKPT*\nINFO:tensorflow:Tensor: bert/encoder/layer_1/attention/self/value_q/bias:0 *INIT_FROM_CKPT*\nINFO:tensorflow:Tensor: bert/encoder/layer_6/attention/self/key_p/kernel:0 *INIT_FROM_CKPT*\nINFO:tensorflow:Tensor: bert/encoder/layer_6/attention/self/key_q/kernel:0 *INIT_FROM_CKPT*\nINFO:tensorflow:Tensor: bert/encoder/layer_10/attention/self/key_p/kernel:0 *INIT_FROM_CKPT*\nINFO:tensorflow:Tensor: bert/encoder/layer_10/attention/self/key_q/kernel:0 *INIT_FROM_CKPT*\nINFO:tensorflow:Tensor: bert/encoder/layer_4/attention/output/LayerNorm/beta:0 *INIT_FROM_CKPT*\nINFO:tensorflow:Tensor: bert/encoder/layer_4/attention/output/LayerNorm/gamma:0 *INIT_FROM_CKPT*\nINFO:tensorflow:Tensor: bert/embeddings/LayerNorm/gamma:0 *INIT_FROM_CKPT*\nINFO:tensorflow:Tensor: bert/encoder/layer_8/attention/self/value_p/kernel:0 *INIT_FROM_CKPT*\nINFO:tensorflow:Tensor: bert/encoder/layer_8/attention/self/value_q/kernel:0 *INIT_FROM_CKPT*\nINFO:tensorflow:Tensor: bert/encoder/layer_4/attention/output/dense_q/bias:0 *INIT_FROM_CKPT*\nINFO:tensorflow:Tensor: bert/encoder/layer_9/attention/self/value_q/bias:0 *INIT_FROM_CKPT*\nINFO:tensorflow:Tensor: bert/encoder/layer_3/attention/output/dense_p/kernel:0 *INIT_FROM_CKPT*\nINFO:tensorflow:Tensor: bert/encoder/layer_3/attention/output/dense_q/kernel:0 *INIT_FROM_CKPT*\nINFO:tensorflow:Tensor: bert/encoder/layer_4/attention/output/dense_p/kernel:0 *INIT_FROM_CKPT*\nINFO:tensorflow:Tensor: bert/encoder/layer_4/attention/output/dense_q/kernel:0 *INIT_FROM_CKPT*\nINFO:tensorflow:Tensor: bert/encoder/layer_1/attention/output/LayerNorm/beta:0 *INIT_FROM_CKPT*\nINFO:tensorflow:Tensor: bert/encoder/layer_4/attention/self/value_q/bias:0 *INIT_FROM_CKPT*\nINFO:tensorflow:Tensor: bert/encoder/layer_4/attention/self/value_p/kernel:0 *INIT_FROM_CKPT*\nINFO:tensorflow:Tensor: bert/encoder/layer_4/attention/self/value_q/kernel:0 *INIT_FROM_CKPT*\nINFO:tensorflow:Tensor: bert/encoder/layer_4/intermediate/dense_q/bias:0 *INIT_FROM_CKPT*\nINFO:tensorflow:Tensor: bert/encoder/layer_11/attention/self/key_q/bias:0 *INIT_FROM_CKPT*\nINFO:tensorflow:Tensor: bert/encoder/layer_7/attention/output/LayerNorm/beta:0 *INIT_FROM_CKPT*\nINFO:tensorflow:Tensor: bert/encoder/layer_4/intermediate/dense_p/kernel:0 *INIT_FROM_CKPT*\nINFO:tensorflow:Tensor: bert/encoder/layer_4/intermediate/dense_q/kernel:0 *INIT_FROM_CKPT*\nINFO:tensorflow:Tensor: bert/encoder/layer_11/intermediate/dense_q/bias:0 *INIT_FROM_CKPT*\nINFO:tensorflow:Tensor: bert/encoder/layer_5/attention/self/query_q/bias:0 *INIT_FROM_CKPT*\nINFO:tensorflow:Tensor: bert/encoder/layer_7/attention/output/LayerNorm/gamma:0 *INIT_FROM_CKPT*\nINFO:tensorflow:Tensor: bert/encoder/layer_6/attention/self/query_q/bias:0 *INIT_FROM_CKPT*\nINFO:tensorflow:Tensor: bert/encoder/layer_4/output/dense_q/bias:0 *INIT_FROM_CKPT*\nINFO:tensorflow:Tensor: bert/encoder/layer_8/attention/output/dense_p/kernel:0 *INIT_FROM_CKPT*\nINFO:tensorflow:Tensor: bert/encoder/layer_8/attention/output/dense_q/kernel:0 *INIT_FROM_CKPT*\nINFO:tensorflow:Tensor: bert/encoder/layer_5/attention/output/dense_q/bias:0 *INIT_FROM_CKPT*\nINFO:tensorflow:Tensor: bert/encoder/layer_3/attention/self/key_p/kernel:0 *INIT_FROM_CKPT*\nINFO:tensorflow:Tensor: bert/encoder/layer_3/attention/self/key_q/kernel:0 *INIT_FROM_CKPT*\nINFO:tensorflow:Tensor: bert/encoder/layer_11/output/LayerNorm/beta:0 *INIT_FROM_CKPT*\nINFO:tensorflow:Tensor: bert/encoder/layer_4/output/dense_p/kernel:0 *INIT_FROM_CKPT*\nINFO:tensorflow:Tensor: bert/encoder/layer_4/output/dense_q/kernel:0 *INIT_FROM_CKPT*\nINFO:tensorflow:Tensor: bert/encoder/layer_5/attention/output/LayerNorm/beta:0 *INIT_FROM_CKPT*\nINFO:tensorflow:Tensor: bert/encoder/layer_4/attention/self/query_q/bias:0 *INIT_FROM_CKPT*\nINFO:tensorflow:Tensor: bert/encoder/layer_8/output/dense_p/kernel:0 *INIT_FROM_CKPT*\nINFO:tensorflow:Tensor: bert/encoder/layer_8/output/dense_q/kernel:0 *INIT_FROM_CKPT*\nINFO:tensorflow:Tensor: bert/encoder/layer_5/attention/output/dense_p/kernel:0 *INIT_FROM_CKPT*\nINFO:tensorflow:Tensor: bert/encoder/layer_5/attention/output/dense_q/kernel:0 *INIT_FROM_CKPT*\nINFO:tensorflow:Tensor: bert/encoder/layer_5/attention/self/value_q/bias:0 *INIT_FROM_CKPT*\nINFO:tensorflow:Tensor: bert/encoder/layer_5/attention/self/value_p/kernel:0 *INIT_FROM_CKPT*\nINFO:tensorflow:Tensor: bert/encoder/layer_5/attention/self/value_q/kernel:0 *INIT_FROM_CKPT*\nINFO:tensorflow:Tensor: bert/encoder/layer_5/intermediate/dense_q/bias:0 *INIT_FROM_CKPT*\nINFO:tensorflow:Tensor: bert/encoder/layer_5/intermediate/dense_p/kernel:0 *INIT_FROM_CKPT*\nINFO:tensorflow:Tensor: bert/encoder/layer_5/intermediate/dense_q/kernel:0 *INIT_FROM_CKPT*\nINFO:tensorflow:Tensor: bert/encoder/layer_5/output/LayerNorm/beta:0 *INIT_FROM_CKPT*\nINFO:tensorflow:Tensor: bert/encoder/layer_5/output/LayerNorm/gamma:0 *INIT_FROM_CKPT*\nINFO:tensorflow:Tensor: bert/encoder/layer_7/output/dense_p/kernel:0 *INIT_FROM_CKPT*\nINFO:tensorflow:Tensor: bert/encoder/layer_7/output/dense_q/kernel:0 *INIT_FROM_CKPT*\nINFO:tensorflow:Tensor: bert/encoder/layer_5/output/dense_q/bias:0 *INIT_FROM_CKPT*\nINFO:tensorflow:Tensor: bert/encoder/layer_5/output/dense_p/kernel:0 *INIT_FROM_CKPT*\nINFO:tensorflow:Tensor: bert/encoder/layer_5/output/dense_q/kernel:0 *INIT_FROM_CKPT*\nINFO:tensorflow:Tensor: bert/encoder/layer_6/attention/output/LayerNorm/gamma:0 *INIT_FROM_CKPT*\nINFO:tensorflow:Tensor: bert/encoder/layer_6/attention/output/dense_p/kernel:0 *INIT_FROM_CKPT*\nINFO:tensorflow:Tensor: bert/encoder/layer_6/attention/output/dense_q/kernel:0 *INIT_FROM_CKPT*\nINFO:tensorflow:Tensor: bert/encoder/layer_6/attention/self/value_q/bias:0 *INIT_FROM_CKPT*\nINFO:tensorflow:Tensor: bert/encoder/layer_6/attention/self/value_p/kernel:0 *INIT_FROM_CKPT*\nINFO:tensorflow:Tensor: bert/encoder/layer_6/attention/self/value_q/kernel:0 *INIT_FROM_CKPT*\nINFO:tensorflow:Tensor: bert/encoder/layer_6/intermediate/dense_q/bias:0 *INIT_FROM_CKPT*\nINFO:tensorflow:Tensor: bert/encoder/layer_4/output/LayerNorm/gamma:0 *INIT_FROM_CKPT*\nINFO:tensorflow:Tensor: bert/encoder/layer_6/output/LayerNorm/gamma:0 *INIT_FROM_CKPT*\nINFO:tensorflow:Tensor: bert/encoder/layer_10/attention/self/value_p/kernel:0 *INIT_FROM_CKPT*\nINFO:tensorflow:Tensor: bert/encoder/layer_10/attention/self/value_q/kernel:0 *INIT_FROM_CKPT*\nINFO:tensorflow:Tensor: bert/encoder/layer_0/output/dense_p/kernel:0 *INIT_FROM_CKPT*\nINFO:tensorflow:Tensor: bert/encoder/layer_0/output/dense_q/kernel:0 *INIT_FROM_CKPT*\nINFO:tensorflow:Tensor: bert/encoder/layer_6/output/dense_q/bias:0 *INIT_FROM_CKPT*\nINFO:tensorflow:Tensor: bert/encoder/layer_7/attention/output/dense_q/bias:0 *INIT_FROM_CKPT*\nINFO:tensorflow:Tensor: bert/encoder/layer_7/attention/self/key_q/bias:0 *INIT_FROM_CKPT*\nINFO:tensorflow:Tensor: bert/encoder/layer_7/attention/self/query_p/kernel:0 *INIT_FROM_CKPT*\nINFO:tensorflow:Tensor: bert/encoder/layer_7/attention/self/query_q/kernel:0 *INIT_FROM_CKPT*\nINFO:tensorflow:Tensor: bert/encoder/layer_7/attention/self/value_p/kernel:0 *INIT_FROM_CKPT*\nINFO:tensorflow:Tensor: bert/encoder/layer_7/attention/self/value_q/kernel:0 *INIT_FROM_CKPT*\nINFO:tensorflow:Tensor: bert/encoder/layer_7/intermediate/dense_q/bias:0 *INIT_FROM_CKPT*\nINFO:tensorflow:Tensor: bert/encoder/layer_6/intermediate/dense_p/kernel:0 *INIT_FROM_CKPT*\nINFO:tensorflow:Tensor: bert/encoder/layer_6/intermediate/dense_q/kernel:0 *INIT_FROM_CKPT*\nINFO:tensorflow:Tensor: bert/encoder/layer_7/output/LayerNorm/beta:0 *INIT_FROM_CKPT*\nINFO:tensorflow:Tensor: bert/encoder/layer_7/output/LayerNorm/gamma:0 *INIT_FROM_CKPT*\nINFO:tensorflow:Tensor: bert/encoder/layer_7/output/dense_q/bias:0 *INIT_FROM_CKPT*\nINFO:tensorflow:Tensor: bert/encoder/layer_8/attention/output/LayerNorm/beta:0 *INIT_FROM_CKPT*\nINFO:tensorflow:Tensor: bert/encoder/layer_8/attention/output/LayerNorm/gamma:0 *INIT_FROM_CKPT*\nINFO:tensorflow:Tensor: bert/encoder/layer_8/attention/self/key_p/kernel:0 *INIT_FROM_CKPT*\nINFO:tensorflow:Tensor: bert/encoder/layer_8/attention/self/key_q/kernel:0 *INIT_FROM_CKPT*\nINFO:tensorflow:Tensor: bert/encoder/layer_6/output/dense_p/kernel:0 *INIT_FROM_CKPT*\nINFO:tensorflow:Tensor: bert/encoder/layer_6/output/dense_q/kernel:0 *INIT_FROM_CKPT*\nINFO:tensorflow:Tensor: bert/encoder/layer_8/attention/self/query_q/bias:0 *INIT_FROM_CKPT*\nINFO:tensorflow:Tensor: bert/encoder/layer_1/output/dense_q/bias:0 *INIT_FROM_CKPT*\nINFO:tensorflow:Tensor: bert/encoder/layer_8/attention/self/query_p/kernel:0 *INIT_FROM_CKPT*\nINFO:tensorflow:Tensor: bert/encoder/layer_8/attention/self/query_q/kernel:0 *INIT_FROM_CKPT*\nINFO:tensorflow:Tensor: bert/encoder/layer_2/output/LayerNorm/gamma:0 *INIT_FROM_CKPT*\nINFO:tensorflow:Tensor: bert/encoder/layer_8/output/LayerNorm/gamma:0 *INIT_FROM_CKPT*\nINFO:tensorflow:Tensor: bert/encoder/layer_9/attention/output/LayerNorm/gamma:0 *INIT_FROM_CKPT*\nINFO:tensorflow:Tensor: bert/encoder/layer_8/intermediate/dense_p/kernel:0 *INIT_FROM_CKPT*\nINFO:tensorflow:Tensor: bert/encoder/layer_8/intermediate/dense_q/kernel:0 *INIT_FROM_CKPT*\nINFO:tensorflow:Tensor: bert/encoder/layer_8/intermediate/dense_q/bias:0 *INIT_FROM_CKPT*\nINFO:tensorflow:Tensor: bert/encoder/layer_9/attention/self/query_p/kernel:0 *INIT_FROM_CKPT*\nINFO:tensorflow:Tensor: bert/encoder/layer_9/attention/self/query_q/kernel:0 *INIT_FROM_CKPT*\nINFO:tensorflow:Tensor: bert/encoder/layer_2/attention/self/key_p/kernel:0 *INIT_FROM_CKPT*\nINFO:tensorflow:Tensor: bert/encoder/layer_2/attention/self/key_q/kernel:0 *INIT_FROM_CKPT*\nINFO:tensorflow:Tensor: bert/encoder/layer_9/attention/output/dense_q/bias:0 *INIT_FROM_CKPT*\nINFO:tensorflow:Tensor: bert/pooler/dense/kernel:0 *INIT_FROM_CKPT*\nINFO:tensorflow:Tensor: bert/encoder/layer_9/attention/output/dense_p/kernel:0 *INIT_FROM_CKPT*\nINFO:tensorflow:Tensor: bert/encoder/layer_9/attention/output/dense_q/kernel:0 *INIT_FROM_CKPT*\nINFO:tensorflow:Tensor: bert/encoder/layer_0/output/dense_q/bias:0 *INIT_FROM_CKPT*\nINFO:tensorflow:Tensor: bert/encoder/layer_9/attention/self/key_p/kernel:0 *INIT_FROM_CKPT*\nINFO:tensorflow:Tensor: bert/encoder/layer_9/attention/self/key_q/kernel:0 *INIT_FROM_CKPT*\nINFO:tensorflow:Tensor: bert/encoder/layer_9/attention/self/key_q/bias:0 *INIT_FROM_CKPT*\nINFO:tensorflow:Tensor: bert/encoder/layer_9/attention/self/query_q/bias:0 *INIT_FROM_CKPT*\nINFO:tensorflow:Tensor: bert/encoder/layer_3/attention/self/query_p/kernel:0 *INIT_FROM_CKPT*\nINFO:tensorflow:Tensor: bert/encoder/layer_3/attention/self/query_q/kernel:0 *INIT_FROM_CKPT*\nINFO:tensorflow:Tensor: bert/encoder/layer_9/intermediate/dense_q/bias:0 *INIT_FROM_CKPT*\nINFO:tensorflow:Tensor: bert/encoder/layer_0/intermediate/dense_q/bias:0 *INIT_FROM_CKPT*\nINFO:tensorflow:Tensor: bert/encoder/layer_1/attention/self/query_p/kernel:0 *INIT_FROM_CKPT*\nINFO:tensorflow:Tensor: bert/encoder/layer_1/attention/self/query_q/kernel:0 *INIT_FROM_CKPT*\nINFO:tensorflow:Tensor: bert/encoder/layer_8/output/dense_q/bias:0 *INIT_FROM_CKPT*\nINFO:tensorflow:Tensor: bert/encoder/layer_9/output/LayerNorm/beta:0 *INIT_FROM_CKPT*\nINFO:tensorflow:Tensor: bert/encoder/layer_9/output/dense_q/bias:0 *INIT_FROM_CKPT*\nINFO:tensorflow:Tensor: bert/encoder/layer_9/output/dense_p/kernel:0 *INIT_FROM_CKPT*\nINFO:tensorflow:Tensor: bert/encoder/layer_9/output/dense_q/kernel:0 *INIT_FROM_CKPT*\nINFO:tensorflow:Tensor: bert/pooler/dense/bias:0 *INIT_FROM_CKPT*\n"
    },
    {
     "output_type": "execute_result",
     "data": {
      "text/plain": "'./checkpoint_dir/bert_f.ckpt'"
     },
     "metadata": {},
     "execution_count": 4
    }
   ],
   "source": [
    "import os\n",
    "from tensorflow.python import pywrap_tensorflow\n",
    "import re\n",
    "import copy\n",
    "import factorize\n",
    "import numpy as np\n",
    "checkpoint_path = os.path.join(\"/data0/ultraman/uncased_L-12_H-768_A-12/\", \"bert_model.ckpt\")\n",
    "reader = pywrap_tensorflow.NewCheckpointReader(checkpoint_path) #tf.train.NewCheckpointReader\n",
    "var_to_shape_map = reader.get_variable_to_shape_map()\n",
    "kernel_pattern = \"^bert/encoder/.*((query|key|value)|(dense))/kernel$\"\n",
    "bias_pattern = \"^bert/encoder/.*((query|key|value)|(dense))/bias$\"\n",
    "tvar = tf.trainable_variables()\n",
    "tvar_names = []\n",
    "sess = tf.Session()\n",
    "sess.run(tf.global_variables_initializer())\n",
    "for var in tvar:\n",
    "    tvar_names.append(var.name)\n",
    "for key in var_to_shape_map:\n",
    "    if re.match(bias_pattern, key):\n",
    "        q = factorize.bias_map(key)\n",
    "        q_var = [v for v in tvar if v.name == q][0]\n",
    "        tf.logging.info(\"Tensor: %s %s\", q, \"*INIT_FROM_CKPT*\")\n",
    "        sess.run(tf.assign(q_var, reader.get_tensor(key)))\n",
    "        tvar_names.remove(q)\n",
    "    elif re.match(kernel_pattern, key):\n",
    "        p, q = factorize.kernel_map(key)\n",
    "        p_var = [v for v in tvar if v.name == p][0]\n",
    "        q_var = [v for v in tvar if v.name == q][0]\n",
    "        u, s, v = np.linalg.svd(reader.get_tensor(key))\n",
    "        smat = np.zeros((u.shape[0], v.shape[0]))\n",
    "        smat[:s.shape[0], :s.shape[0]] = np.diag(s)\n",
    "        q_mat = np.dot(smat, v)\n",
    "        p_mat = u\n",
    "        tf.logging.info(\"Tensor: %s %s\", p, \"*INIT_FROM_CKPT*\")\n",
    "        tf.logging.info(\"Tensor: %s %s\", q, \"*INIT_FROM_CKPT*\")\n",
    "        sess.run(tf.assign(p_var, p_mat))\n",
    "        sess.run(tf.assign(q_var, q_mat))\n",
    "        tvar_names.remove(p)\n",
    "        tvar_names.remove(q)\n",
    "        pass\n",
    "    elif key + \":0\" in tvar_names:\n",
    "        var = [v for v in tvar if v.name == key + \":0\"][0]\n",
    "        tf.logging.info(\"Tensor: %s %s\", key + \":0\", \"*INIT_FROM_CKPT*\")\n",
    "        sess.run(tf.assign(var, reader.get_tensor(key)))\n",
    "        tvar_names.remove(key + \":0\")\n",
    "        pass\n",
    "    else:\n",
    "        pass\n",
    "for var_name in tvar_names:\n",
    "    tf.logging.info(\"Tensor: %s %s\", var_name, \"*NOT_INIT_FROM_CKPT*\")\n",
    "saver = tf.train.Saver()\n",
    "saver.save(sess,\"./checkpoint_dir/bert_f.ckpt\")\n",
    "\n"
   ]
  },
  {
   "cell_type": "code",
   "execution_count": 7,
   "metadata": {
    "tags": [
     "outputPrepend"
    ]
   },
   "outputs": [
    {
     "output_type": "stream",
     "name": "stdout",
     "text": "bert/embeddings/word_embeddings:0\nbert/embeddings/token_type_embeddings:0\nbert/embeddings/position_embeddings:0\nbert/embeddings/LayerNorm/beta:0\nbert/embeddings/LayerNorm/gamma:0\nbert/encoder/layer_0/attention/self/query_q/kernel:0\nbert/encoder/layer_0/attention/self/query_p/kernel:0\nbert/encoder/layer_0/attention/self/query_p/bias:0\nbert/encoder/layer_0/attention/self/key_q/kernel:0\nbert/encoder/layer_0/attention/self/key_p/kernel:0\nbert/encoder/layer_0/attention/self/key_p/bias:0\nbert/encoder/layer_0/attention/self/value_q/kernel:0\nbert/encoder/layer_0/attention/self/value_p/kernel:0\nbert/encoder/layer_0/attention/self/value_p/bias:0\nbert/encoder/layer_0/attention/output/dense_q/kernel:0\nbert/encoder/layer_0/attention/output/dense_p/kernel:0\nbert/encoder/layer_0/attention/output/dense_p/bias:0\nbert/encoder/layer_0/attention/output/LayerNorm/beta:0\nbert/encoder/layer_0/attention/output/LayerNorm/gamma:0\nbert/encoder/layer_0/intermediate/dense_q/kernel:0\nbert/encoder/layer_0/intermediate/dense_p/kernel:0\nbert/encoder/layer_0/intermediate/dense_p/bias:0\nbert/encoder/layer_0/output/dense_q/kernel:0\nbert/encoder/layer_0/output/dense_p/kernel:0\nbert/encoder/layer_0/output/dense_p/bias:0\nbert/encoder/layer_0/output/LayerNorm/beta:0\nbert/encoder/layer_0/output/LayerNorm/gamma:0\nbert/encoder/layer_1/attention/self/query_q/kernel:0\nbert/encoder/layer_1/attention/self/query_p/kernel:0\nbert/encoder/layer_1/attention/self/query_p/bias:0\nbert/encoder/layer_1/attention/self/key_q/kernel:0\nbert/encoder/layer_1/attention/self/key_p/kernel:0\nbert/encoder/layer_1/attention/self/key_p/bias:0\nbert/encoder/layer_1/attention/self/value_q/kernel:0\nbert/encoder/layer_1/attention/self/value_p/kernel:0\nbert/encoder/layer_1/attention/self/value_p/bias:0\nbert/encoder/layer_1/attention/output/dense_q/kernel:0\nbert/encoder/layer_1/attention/output/dense_p/kernel:0\nbert/encoder/layer_1/attention/output/dense_p/bias:0\nbert/encoder/layer_1/attention/output/LayerNorm/beta:0\nbert/encoder/layer_1/attention/output/LayerNorm/gamma:0\nbert/encoder/layer_1/intermediate/dense_q/kernel:0\nbert/encoder/layer_1/intermediate/dense_p/kernel:0\nbert/encoder/layer_1/intermediate/dense_p/bias:0\nbert/encoder/layer_1/output/dense_q/kernel:0\nbert/encoder/layer_1/output/dense_p/kernel:0\nbert/encoder/layer_1/output/dense_p/bias:0\nbert/encoder/layer_1/output/LayerNorm/beta:0\nbert/encoder/layer_1/output/LayerNorm/gamma:0\nbert/encoder/layer_2/attention/self/query_q/kernel:0\nbert/encoder/layer_2/attention/self/query_p/kernel:0\nbert/encoder/layer_2/attention/self/query_p/bias:0\nbert/encoder/layer_2/attention/self/key_q/kernel:0\nbert/encoder/layer_2/attention/self/key_p/kernel:0\nbert/encoder/layer_2/attention/self/key_p/bias:0\nbert/encoder/layer_2/attention/self/value_q/kernel:0\nbert/encoder/layer_2/attention/self/value_p/kernel:0\nbert/encoder/layer_2/attention/self/value_p/bias:0\nbert/encoder/layer_2/attention/output/dense_q/kernel:0\nbert/encoder/layer_2/attention/output/dense_p/kernel:0\nbert/encoder/layer_2/attention/output/dense_p/bias:0\nbert/encoder/layer_2/attention/output/LayerNorm/beta:0\nbert/encoder/layer_2/attention/output/LayerNorm/gamma:0\nbert/encoder/layer_2/intermediate/dense_q/kernel:0\nbert/encoder/layer_2/intermediate/dense_p/kernel:0\nbert/encoder/layer_2/intermediate/dense_p/bias:0\nbert/encoder/layer_2/output/dense_q/kernel:0\nbert/encoder/layer_2/output/dense_p/kernel:0\nbert/encoder/layer_2/output/dense_p/bias:0\nbert/encoder/layer_2/output/LayerNorm/beta:0\nbert/encoder/layer_2/output/LayerNorm/gamma:0\nbert/encoder/layer_3/attention/self/query_q/kernel:0\nbert/encoder/layer_3/attention/self/query_p/kernel:0\nbert/encoder/layer_3/attention/self/query_p/bias:0\nbert/encoder/layer_3/attention/self/key_q/kernel:0\nbert/encoder/layer_3/attention/self/key_p/kernel:0\nbert/encoder/layer_3/attention/self/key_p/bias:0\nbert/encoder/layer_3/attention/self/value_q/kernel:0\nbert/encoder/layer_3/attention/self/value_p/kernel:0\nbert/encoder/layer_3/attention/self/value_p/bias:0\nbert/encoder/layer_3/attention/output/dense_q/kernel:0\nbert/encoder/layer_3/attention/output/dense_p/kernel:0\nbert/encoder/layer_3/attention/output/dense_p/bias:0\nbert/encoder/layer_3/attention/output/LayerNorm/beta:0\nbert/encoder/layer_3/attention/output/LayerNorm/gamma:0\nbert/encoder/layer_3/intermediate/dense_q/kernel:0\nbert/encoder/layer_3/intermediate/dense_p/kernel:0\nbert/encoder/layer_3/intermediate/dense_p/bias:0\nbert/encoder/layer_3/output/dense_q/kernel:0\nbert/encoder/layer_3/output/dense_p/kernel:0\nbert/encoder/layer_3/output/dense_p/bias:0\nbert/encoder/layer_3/output/LayerNorm/beta:0\nbert/encoder/layer_3/output/LayerNorm/gamma:0\nbert/encoder/layer_4/attention/self/query_q/kernel:0\nbert/encoder/layer_4/attention/self/query_p/kernel:0\nbert/encoder/layer_4/attention/self/query_p/bias:0\nbert/encoder/layer_4/attention/self/key_q/kernel:0\nbert/encoder/layer_4/attention/self/key_p/kernel:0\nbert/encoder/layer_4/attention/self/key_p/bias:0\nbert/encoder/layer_4/attention/self/value_q/kernel:0\nbert/encoder/layer_4/attention/self/value_p/kernel:0\nbert/encoder/layer_4/attention/self/value_p/bias:0\nbert/encoder/layer_4/attention/output/dense_q/kernel:0\nbert/encoder/layer_4/attention/output/dense_p/kernel:0\nbert/encoder/layer_4/attention/output/dense_p/bias:0\nbert/encoder/layer_4/attention/output/LayerNorm/beta:0\nbert/encoder/layer_4/attention/output/LayerNorm/gamma:0\nbert/encoder/layer_4/intermediate/dense_q/kernel:0\nbert/encoder/layer_4/intermediate/dense_p/kernel:0\nbert/encoder/layer_4/intermediate/dense_p/bias:0\nbert/encoder/layer_4/output/dense_q/kernel:0\nbert/encoder/layer_4/output/dense_p/kernel:0\nbert/encoder/layer_4/output/dense_p/bias:0\nbert/encoder/layer_4/output/LayerNorm/beta:0\nbert/encoder/layer_4/output/LayerNorm/gamma:0\nbert/encoder/layer_5/attention/self/query_q/kernel:0\nbert/encoder/layer_5/attention/self/query_p/kernel:0\nbert/encoder/layer_5/attention/self/query_p/bias:0\nbert/encoder/layer_5/attention/self/key_q/kernel:0\nbert/encoder/layer_5/attention/self/key_p/kernel:0\nbert/encoder/layer_5/attention/self/key_p/bias:0\nbert/encoder/layer_5/attention/self/value_q/kernel:0\nbert/encoder/layer_5/attention/self/value_p/kernel:0\nbert/encoder/layer_5/attention/self/value_p/bias:0\nbert/encoder/layer_5/attention/output/dense_q/kernel:0\nbert/encoder/layer_5/attention/output/dense_p/kernel:0\nbert/encoder/layer_5/attention/output/dense_p/bias:0\nbert/encoder/layer_5/attention/output/LayerNorm/beta:0\nbert/encoder/layer_5/attention/output/LayerNorm/gamma:0\nbert/encoder/layer_5/intermediate/dense_q/kernel:0\nbert/encoder/layer_5/intermediate/dense_p/kernel:0\nbert/encoder/layer_5/intermediate/dense_p/bias:0\nbert/encoder/layer_5/output/dense_q/kernel:0\nbert/encoder/layer_5/output/dense_p/kernel:0\nbert/encoder/layer_5/output/dense_p/bias:0\nbert/encoder/layer_5/output/LayerNorm/beta:0\nbert/encoder/layer_5/output/LayerNorm/gamma:0\nbert/encoder/layer_6/attention/self/query_q/kernel:0\nbert/encoder/layer_6/attention/self/query_p/kernel:0\nbert/encoder/layer_6/attention/self/query_p/bias:0\nbert/encoder/layer_6/attention/self/key_q/kernel:0\nbert/encoder/layer_6/attention/self/key_p/kernel:0\nbert/encoder/layer_6/attention/self/key_p/bias:0\nbert/encoder/layer_6/attention/self/value_q/kernel:0\nbert/encoder/layer_6/attention/self/value_p/kernel:0\nbert/encoder/layer_6/attention/self/value_p/bias:0\nbert/encoder/layer_6/attention/output/dense_q/kernel:0\nbert/encoder/layer_6/attention/output/dense_p/kernel:0\nbert/encoder/layer_6/attention/output/dense_p/bias:0\nbert/encoder/layer_6/attention/output/LayerNorm/beta:0\nbert/encoder/layer_6/attention/output/LayerNorm/gamma:0\nbert/encoder/layer_6/intermediate/dense_q/kernel:0\nbert/encoder/layer_6/intermediate/dense_p/kernel:0\nbert/encoder/layer_6/intermediate/dense_p/bias:0\nbert/encoder/layer_6/output/dense_q/kernel:0\nbert/encoder/layer_6/output/dense_p/kernel:0\nbert/encoder/layer_6/output/dense_p/bias:0\nbert/encoder/layer_6/output/LayerNorm/beta:0\nbert/encoder/layer_6/output/LayerNorm/gamma:0\nbert/encoder/layer_7/attention/self/query_q/kernel:0\nbert/encoder/layer_7/attention/self/query_p/kernel:0\nbert/encoder/layer_7/attention/self/query_p/bias:0\nbert/encoder/layer_7/attention/self/key_q/kernel:0\nbert/encoder/layer_7/attention/self/key_p/kernel:0\nbert/encoder/layer_7/attention/self/key_p/bias:0\nbert/encoder/layer_7/attention/self/value_q/kernel:0\nbert/encoder/layer_7/attention/self/value_p/kernel:0\nbert/encoder/layer_7/attention/self/value_p/bias:0\nbert/encoder/layer_7/attention/output/dense_q/kernel:0\nbert/encoder/layer_7/attention/output/dense_p/kernel:0\nbert/encoder/layer_7/attention/output/dense_p/bias:0\nbert/encoder/layer_7/attention/output/LayerNorm/beta:0\nbert/encoder/layer_7/attention/output/LayerNorm/gamma:0\nbert/encoder/layer_7/intermediate/dense_q/kernel:0\nbert/encoder/layer_7/intermediate/dense_p/kernel:0\nbert/encoder/layer_7/intermediate/dense_p/bias:0\nbert/encoder/layer_7/output/dense_q/kernel:0\nbert/encoder/layer_7/output/dense_p/kernel:0\nbert/encoder/layer_7/output/dense_p/bias:0\nbert/encoder/layer_7/output/LayerNorm/beta:0\nbert/encoder/layer_7/output/LayerNorm/gamma:0\nbert/encoder/layer_8/attention/self/query_q/kernel:0\nbert/encoder/layer_8/attention/self/query_p/kernel:0\nbert/encoder/layer_8/attention/self/query_p/bias:0\nbert/encoder/layer_8/attention/self/key_q/kernel:0\nbert/encoder/layer_8/attention/self/key_p/kernel:0\nbert/encoder/layer_8/attention/self/key_p/bias:0\nbert/encoder/layer_8/attention/self/value_q/kernel:0\nbert/encoder/layer_8/attention/self/value_p/kernel:0\nbert/encoder/layer_8/attention/self/value_p/bias:0\nbert/encoder/layer_8/attention/output/dense_q/kernel:0\nbert/encoder/layer_8/attention/output/dense_p/kernel:0\nbert/encoder/layer_8/attention/output/dense_p/bias:0\nbert/encoder/layer_8/attention/output/LayerNorm/beta:0\nbert/encoder/layer_8/attention/output/LayerNorm/gamma:0\nbert/encoder/layer_8/intermediate/dense_q/kernel:0\nbert/encoder/layer_8/intermediate/dense_p/kernel:0\nbert/encoder/layer_8/intermediate/dense_p/bias:0\nbert/encoder/layer_8/output/dense_q/kernel:0\nbert/encoder/layer_8/output/dense_p/kernel:0\nbert/encoder/layer_8/output/dense_p/bias:0\nbert/encoder/layer_8/output/LayerNorm/beta:0\nbert/encoder/layer_8/output/LayerNorm/gamma:0\nbert/encoder/layer_9/attention/self/query_q/kernel:0\nbert/encoder/layer_9/attention/self/query_p/kernel:0\nbert/encoder/layer_9/attention/self/query_p/bias:0\nbert/encoder/layer_9/attention/self/key_q/kernel:0\nbert/encoder/layer_9/attention/self/key_p/kernel:0\nbert/encoder/layer_9/attention/self/key_p/bias:0\nbert/encoder/layer_9/attention/self/value_q/kernel:0\nbert/encoder/layer_9/attention/self/value_p/kernel:0\nbert/encoder/layer_9/attention/self/value_p/bias:0\nbert/encoder/layer_9/attention/output/dense_q/kernel:0\nbert/encoder/layer_9/attention/output/dense_p/kernel:0\nbert/encoder/layer_9/attention/output/dense_p/bias:0\nbert/encoder/layer_9/attention/output/LayerNorm/beta:0\nbert/encoder/layer_9/attention/output/LayerNorm/gamma:0\nbert/encoder/layer_9/intermediate/dense_q/kernel:0\nbert/encoder/layer_9/intermediate/dense_p/kernel:0\nbert/encoder/layer_9/intermediate/dense_p/bias:0\nbert/encoder/layer_9/output/dense_q/kernel:0\nbert/encoder/layer_9/output/dense_p/kernel:0\nbert/encoder/layer_9/output/dense_p/bias:0\nbert/encoder/layer_9/output/LayerNorm/beta:0\nbert/encoder/layer_9/output/LayerNorm/gamma:0\nbert/encoder/layer_10/attention/self/query_q/kernel:0\nbert/encoder/layer_10/attention/self/query_p/kernel:0\nbert/encoder/layer_10/attention/self/query_p/bias:0\nbert/encoder/layer_10/attention/self/key_q/kernel:0\nbert/encoder/layer_10/attention/self/key_p/kernel:0\nbert/encoder/layer_10/attention/self/key_p/bias:0\nbert/encoder/layer_10/attention/self/value_q/kernel:0\nbert/encoder/layer_10/attention/self/value_p/kernel:0\nbert/encoder/layer_10/attention/self/value_p/bias:0\nbert/encoder/layer_10/attention/output/dense_q/kernel:0\nbert/encoder/layer_10/attention/output/dense_p/kernel:0\nbert/encoder/layer_10/attention/output/dense_p/bias:0\nbert/encoder/layer_10/attention/output/LayerNorm/beta:0\nbert/encoder/layer_10/attention/output/LayerNorm/gamma:0\nbert/encoder/layer_10/intermediate/dense_q/kernel:0\nbert/encoder/layer_10/intermediate/dense_p/kernel:0\nbert/encoder/layer_10/intermediate/dense_p/bias:0\nbert/encoder/layer_10/output/dense_q/kernel:0\nbert/encoder/layer_10/output/dense_p/kernel:0\nbert/encoder/layer_10/output/dense_p/bias:0\nbert/encoder/layer_10/output/LayerNorm/beta:0\nbert/encoder/layer_10/output/LayerNorm/gamma:0\nbert/encoder/layer_11/attention/self/query_q/kernel:0\nbert/encoder/layer_11/attention/self/query_p/kernel:0\nbert/encoder/layer_11/attention/self/query_p/bias:0\nbert/encoder/layer_11/attention/self/key_q/kernel:0\nbert/encoder/layer_11/attention/self/key_p/kernel:0\nbert/encoder/layer_11/attention/self/key_p/bias:0\nbert/encoder/layer_11/attention/self/value_q/kernel:0\nbert/encoder/layer_11/attention/self/value_p/kernel:0\nbert/encoder/layer_11/attention/self/value_p/bias:0\nbert/encoder/layer_11/attention/output/dense_q/kernel:0\nbert/encoder/layer_11/attention/output/dense_p/kernel:0\nbert/encoder/layer_11/attention/output/dense_p/bias:0\nbert/encoder/layer_11/attention/output/LayerNorm/beta:0\nbert/encoder/layer_11/attention/output/LayerNorm/gamma:0\nbert/encoder/layer_11/intermediate/dense_q/kernel:0\nbert/encoder/layer_11/intermediate/dense_p/kernel:0\nbert/encoder/layer_11/intermediate/dense_p/bias:0\nbert/encoder/layer_11/output/dense_q/kernel:0\nbert/encoder/layer_11/output/dense_p/kernel:0\nbert/encoder/layer_11/output/dense_p/bias:0\nbert/encoder/layer_11/output/LayerNorm/beta:0\nbert/encoder/layer_11/output/LayerNorm/gamma:0\nbert/pooler/dense/kernel:0\nbert/pooler/dense/bias:0\n"
    }
   ],
   "source": [
    "for var in tf.trainable_variables():\n",
    "    print(var.name)"
   ]
  },
  {
   "cell_type": "code",
   "execution_count": 29,
   "metadata": {},
   "outputs": [
    {
     "output_type": "stream",
     "name": "stdout",
     "text": "[[-0.56959484 -0.82192562]\n [-0.82192562  0.56959484]]\n[[6.54675564 0.        ]\n [0.         0.37415323]]\n[[-0.33809817 -0.55064932 -0.76320047]\n [ 0.84795222  0.17354729 -0.50085764]\n [ 0.40824829 -0.81649658  0.40824829]]\n[[6.54675564 0.         0.        ]\n [0.         0.37415323 0.        ]]\n[[-3.72899821 -0.30752612  0.        ]\n [-5.38094617  0.21311575  0.        ]]\n[[1. 2. 3.]\n [2. 3. 4.]]\n"
    }
   ],
   "source": [
    "from tensorflow.python.ops import gen_array_ops\n",
    "import tensorflow as tf\n",
    "import numpy as np\n",
    "\n",
    "data = np.array([[1, 2, 3], [2, 3, 4]])\n",
    "u, s, v = np.linalg.svd(data)\n",
    "print(u)\n",
    "print(np.diag(s))\n",
    "print(v)\n",
    "smat = np.zeros((2, 3))\n",
    "smat[:2, :2] = np.diag(s)\n",
    "print(smat)\n",
    "one = np.dot(u, smat)\n",
    "print(one)\n",
    "print(np.dot(one, v))"
   ]
  },
  {
   "cell_type": "code",
   "execution_count": null,
   "metadata": {},
   "outputs": [],
   "source": []
  }
 ],
 "metadata": {
  "language_info": {
   "codemirror_mode": {
    "name": "ipython",
    "version": 3
   },
   "file_extension": ".py",
   "mimetype": "text/x-python",
   "name": "python",
   "nbconvert_exporter": "python",
   "pygments_lexer": "ipython3",
   "version": "3.7.6-final"
  },
  "orig_nbformat": 2,
  "kernelspec": {
   "name": "python37664bittensorflow1150conda8bb332f9e6b3404787b6eb268bc0904a",
   "display_name": "Python 3.7.6 64-bit ('tensorflow-1.15.0': conda)"
  }
 },
 "nbformat": 4,
 "nbformat_minor": 2
}