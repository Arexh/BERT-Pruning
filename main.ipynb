{
 "cells": [
  {
   "cell_type": "code",
   "execution_count": 1,
   "metadata": {},
   "outputs": [
    {
     "output_type": "stream",
     "name": "stdout",
     "text": "WARNING:tensorflow:From /data0/ultraman/BERT-Pruning/bert/optimization.py:87: The name tf.train.Optimizer is deprecated. Please use tf.compat.v1.train.Optimizer instead.\n\nWARNING:tensorflow:\nThe TensorFlow contrib module will not be included in TensorFlow 2.0.\nFor more information, please see:\n  * https://github.com/tensorflow/community/blob/master/rfcs/20180907-contrib-sunset.md\n  * https://github.com/tensorflow/addons\n  * https://github.com/tensorflow/io (for I/O related ops)\nIf you depend on functionality not listed there, please file an issue.\n\n"
    }
   ],
   "source": [
    "import sys\n",
    "sys.path.append(sys.path[0] + '/bert')\n",
    "sys.path.append(sys.path[0] + '/flop')\n",
    "import modeling\n",
    "import optimization\n",
    "import tokenization\n",
    "import run_classifier\n",
    "import tensorflow as tf\n",
    "import tensorflow.contrib.slim as slim\n",
    "import modeling_hardconcrete"
   ]
  },
  {
   "cell_type": "code",
   "execution_count": 2,
   "metadata": {},
   "outputs": [
    {
     "output_type": "stream",
     "name": "stdout",
     "text": "WARNING:tensorflow:From /data0/ultraman/BERT-Pruning/bert/modeling.py:93: The name tf.gfile.GFile is deprecated. Please use tf.io.gfile.GFile instead.\n\n"
    }
   ],
   "source": [
    "tf.logging.set_verbosity(tf.logging.DEBUG)\n",
    "flags = {\n",
    "    'do_lower_case': True,\n",
    "    'bert_config_file': '/data0/ultraman/uncased_L-12_H-768_A-12/bert_config.json',\n",
    "    'init_checkpoint': '/data0/ultraman/uncased_L-12_H-768_A-12/bert_model.ckpt',\n",
    "    'vocab_file': '/data0/ultraman/uncased_L-12_H-768_A-12/vocab.txt',\n",
    "    'use_tpu': False,\n",
    "    'data_dir': '/data0/ultraman/datasets/MNLI',\n",
    "    'task_name': 'MNLI',\n",
    "    'learning_rate': 5e-5,\n",
    "    'is_training': False,\n",
    "    'train_batch_size': 32,\n",
    "    'num_train_epochs': 3.0,\n",
    "    'warmup_proportion': 0.1,\n",
    "    'predict_batch_size': 8,\n",
    "    'eval_batch_size': 8,\n",
    "    'output_dir': './temp_files',\n",
    "    \n",
    "}\n",
    "tokenization.validate_case_matches_checkpoint(flags['do_lower_case'],\n",
    "flags['init_checkpoint'])\n",
    "bert_config = modeling.BertConfig.from_json_file(flags['bert_config_file'])\n",
    "processors = {\n",
    "      \"cola\": run_classifier.ColaProcessor,\n",
    "      \"mnli\": run_classifier.MnliProcessor,\n",
    "      \"mrpc\": run_classifier.MrpcProcessor,\n",
    "      \"xnli\": run_classifier.XnliProcessor,\n",
    "      \"mnli\": run_classifier.MnliProcessor,\n",
    "      \"qnli\": run_classifier.QnliProcessor,\n",
    "      \"qqp\": run_classifier.QqpProcessor,\n",
    "      \"rte\": run_classifier.RteProcessor,\n",
    "      \"wnli\": run_classifier.WnliProcessor,\n",
    "      \"sst-2\": run_classifier.Sst2Processor,\n",
    "      \"mrpc\": run_classifier.MrpcProcessor,\n",
    "      \"sts-b\": run_classifier.StsProcessor,\n",
    "  }"
   ]
  },
  {
   "cell_type": "code",
   "execution_count": 3,
   "metadata": {},
   "outputs": [
    {
     "output_type": "stream",
     "name": "stdout",
     "text": "WARNING:tensorflow:From /data0/ultraman/BERT-Pruning/flop/modeling_hardconcrete.py:44: The name tf.variable_scope is deprecated. Please use tf.compat.v1.variable_scope instead.\n\nWARNING:tensorflow:From /data0/ultraman/BERT-Pruning/bert/modeling.py:409: The name tf.get_variable is deprecated. Please use tf.compat.v1.get_variable instead.\n\nWARNING:tensorflow:From /data0/ultraman/BERT-Pruning/bert/modeling.py:490: The name tf.assert_less_equal is deprecated. Please use tf.compat.v1.assert_less_equal instead.\n\nWARNING:tensorflow:From /data0/ultraman/BERT-Pruning/flop/modeling_hardconcrete.py:166: dense (from tensorflow.python.layers.core) is deprecated and will be removed in a future version.\nInstructions for updating:\nUse keras.layers.Dense instead.\nWARNING:tensorflow:From /home/ultraman/anaconda3/envs/tensorflow-1.15.0/lib/python3.7/site-packages/tensorflow_core/python/layers/core.py:187: Layer.apply (from tensorflow.python.keras.engine.base_layer) is deprecated and will be removed in a future version.\nInstructions for updating:\nPlease use `layer.__call__` method instead.\n"
    }
   ],
   "source": [
    "tokenizer = tokenization.FullTokenizer(vocab_file=flags['vocab_file'], do_lower_case=flags['do_lower_case'])\n",
    "task_name = flags['task_name'].lower()\n",
    "processor = processors[task_name]()\n",
    "label_list = processor.get_labels()\n",
    "num_train_steps = None\n",
    "num_warmup_steps = None\n",
    "input_ids = tf.constant([[31, 51, 99], [15, 5, 0]])\n",
    "model = modeling_hardconcrete.BertModelHardConcrete(\n",
    "    config=bert_config,\n",
    "    is_training=flags['is_training'],\n",
    "    input_ids=input_ids)"
   ]
  },
  {
   "cell_type": "code",
   "execution_count": 5,
   "metadata": {
    "tags": [
     "outputPrepend"
    ]
   },
   "outputs": [
    {
     "output_type": "stream",
     "name": "stdout",
     "text": "self/value_p/bias:0 (float32_ref 768) [768, bytes: 3072]\nbert/encoder/layer_2/attention/output/dense_q/kernel:0 (float32_ref 768x768) [589824, bytes: 2359296]\nbert/encoder/layer_2/attention/output/dense_p/kernel:0 (float32_ref 768x768) [589824, bytes: 2359296]\nbert/encoder/layer_2/attention/output/dense_p/bias:0 (float32_ref 768) [768, bytes: 3072]\nbert/encoder/layer_2/attention/output/LayerNorm/beta:0 (float32_ref 768) [768, bytes: 3072]\nbert/encoder/layer_2/attention/output/LayerNorm/gamma:0 (float32_ref 768) [768, bytes: 3072]\nbert/encoder/layer_2/intermediate/dense_q/kernel:0 (float32_ref 768x768) [589824, bytes: 2359296]\nbert/encoder/layer_2/intermediate/dense_p/kernel:0 (float32_ref 768x3072) [2359296, bytes: 9437184]\nbert/encoder/layer_2/intermediate/dense_p/bias:0 (float32_ref 3072) [3072, bytes: 12288]\nbert/encoder/layer_2/output/dense_q/kernel:0 (float32_ref 3072x768) [2359296, bytes: 9437184]\nbert/encoder/layer_2/output/dense_p/kernel:0 (float32_ref 768x768) [589824, bytes: 2359296]\nbert/encoder/layer_2/output/dense_p/bias:0 (float32_ref 768) [768, bytes: 3072]\nbert/encoder/layer_2/output/LayerNorm/beta:0 (float32_ref 768) [768, bytes: 3072]\nbert/encoder/layer_2/output/LayerNorm/gamma:0 (float32_ref 768) [768, bytes: 3072]\nbert/encoder/layer_3/attention/self/query_q/kernel:0 (float32_ref 768x768) [589824, bytes: 2359296]\nbert/encoder/layer_3/attention/self/query_p/kernel:0 (float32_ref 768x768) [589824, bytes: 2359296]\nbert/encoder/layer_3/attention/self/query_p/bias:0 (float32_ref 768) [768, bytes: 3072]\nbert/encoder/layer_3/attention/self/key_q/kernel:0 (float32_ref 768x768) [589824, bytes: 2359296]\nbert/encoder/layer_3/attention/self/key_p/kernel:0 (float32_ref 768x768) [589824, bytes: 2359296]\nbert/encoder/layer_3/attention/self/key_p/bias:0 (float32_ref 768) [768, bytes: 3072]\nbert/encoder/layer_3/attention/self/value_q/kernel:0 (float32_ref 768x768) [589824, bytes: 2359296]\nbert/encoder/layer_3/attention/self/value_p/kernel:0 (float32_ref 768x768) [589824, bytes: 2359296]\nbert/encoder/layer_3/attention/self/value_p/bias:0 (float32_ref 768) [768, bytes: 3072]\nbert/encoder/layer_3/attention/output/dense_q/kernel:0 (float32_ref 768x768) [589824, bytes: 2359296]\nbert/encoder/layer_3/attention/output/dense_p/kernel:0 (float32_ref 768x768) [589824, bytes: 2359296]\nbert/encoder/layer_3/attention/output/dense_p/bias:0 (float32_ref 768) [768, bytes: 3072]\nbert/encoder/layer_3/attention/output/LayerNorm/beta:0 (float32_ref 768) [768, bytes: 3072]\nbert/encoder/layer_3/attention/output/LayerNorm/gamma:0 (float32_ref 768) [768, bytes: 3072]\nbert/encoder/layer_3/intermediate/dense_q/kernel:0 (float32_ref 768x768) [589824, bytes: 2359296]\nbert/encoder/layer_3/intermediate/dense_p/kernel:0 (float32_ref 768x3072) [2359296, bytes: 9437184]\nbert/encoder/layer_3/intermediate/dense_p/bias:0 (float32_ref 3072) [3072, bytes: 12288]\nbert/encoder/layer_3/output/dense_q/kernel:0 (float32_ref 3072x768) [2359296, bytes: 9437184]\nbert/encoder/layer_3/output/dense_p/kernel:0 (float32_ref 768x768) [589824, bytes: 2359296]\nbert/encoder/layer_3/output/dense_p/bias:0 (float32_ref 768) [768, bytes: 3072]\nbert/encoder/layer_3/output/LayerNorm/beta:0 (float32_ref 768) [768, bytes: 3072]\nbert/encoder/layer_3/output/LayerNorm/gamma:0 (float32_ref 768) [768, bytes: 3072]\nbert/encoder/layer_4/attention/self/query_q/kernel:0 (float32_ref 768x768) [589824, bytes: 2359296]\nbert/encoder/layer_4/attention/self/query_p/kernel:0 (float32_ref 768x768) [589824, bytes: 2359296]\nbert/encoder/layer_4/attention/self/query_p/bias:0 (float32_ref 768) [768, bytes: 3072]\nbert/encoder/layer_4/attention/self/key_q/kernel:0 (float32_ref 768x768) [589824, bytes: 2359296]\nbert/encoder/layer_4/attention/self/key_p/kernel:0 (float32_ref 768x768) [589824, bytes: 2359296]\nbert/encoder/layer_4/attention/self/key_p/bias:0 (float32_ref 768) [768, bytes: 3072]\nbert/encoder/layer_4/attention/self/value_q/kernel:0 (float32_ref 768x768) [589824, bytes: 2359296]\nbert/encoder/layer_4/attention/self/value_p/kernel:0 (float32_ref 768x768) [589824, bytes: 2359296]\nbert/encoder/layer_4/attention/self/value_p/bias:0 (float32_ref 768) [768, bytes: 3072]\nbert/encoder/layer_4/attention/output/dense_q/kernel:0 (float32_ref 768x768) [589824, bytes: 2359296]\nbert/encoder/layer_4/attention/output/dense_p/kernel:0 (float32_ref 768x768) [589824, bytes: 2359296]\nbert/encoder/layer_4/attention/output/dense_p/bias:0 (float32_ref 768) [768, bytes: 3072]\nbert/encoder/layer_4/attention/output/LayerNorm/beta:0 (float32_ref 768) [768, bytes: 3072]\nbert/encoder/layer_4/attention/output/LayerNorm/gamma:0 (float32_ref 768) [768, bytes: 3072]\nbert/encoder/layer_4/intermediate/dense_q/kernel:0 (float32_ref 768x768) [589824, bytes: 2359296]\nbert/encoder/layer_4/intermediate/dense_p/kernel:0 (float32_ref 768x3072) [2359296, bytes: 9437184]\nbert/encoder/layer_4/intermediate/dense_p/bias:0 (float32_ref 3072) [3072, bytes: 12288]\nbert/encoder/layer_4/output/dense_q/kernel:0 (float32_ref 3072x768) [2359296, bytes: 9437184]\nbert/encoder/layer_4/output/dense_p/kernel:0 (float32_ref 768x768) [589824, bytes: 2359296]\nbert/encoder/layer_4/output/dense_p/bias:0 (float32_ref 768) [768, bytes: 3072]\nbert/encoder/layer_4/output/LayerNorm/beta:0 (float32_ref 768) [768, bytes: 3072]\nbert/encoder/layer_4/output/LayerNorm/gamma:0 (float32_ref 768) [768, bytes: 3072]\nbert/encoder/layer_5/attention/self/query_q/kernel:0 (float32_ref 768x768) [589824, bytes: 2359296]\nbert/encoder/layer_5/attention/self/query_p/kernel:0 (float32_ref 768x768) [589824, bytes: 2359296]\nbert/encoder/layer_5/attention/self/query_p/bias:0 (float32_ref 768) [768, bytes: 3072]\nbert/encoder/layer_5/attention/self/key_q/kernel:0 (float32_ref 768x768) [589824, bytes: 2359296]\nbert/encoder/layer_5/attention/self/key_p/kernel:0 (float32_ref 768x768) [589824, bytes: 2359296]\nbert/encoder/layer_5/attention/self/key_p/bias:0 (float32_ref 768) [768, bytes: 3072]\nbert/encoder/layer_5/attention/self/value_q/kernel:0 (float32_ref 768x768) [589824, bytes: 2359296]\nbert/encoder/layer_5/attention/self/value_p/kernel:0 (float32_ref 768x768) [589824, bytes: 2359296]\nbert/encoder/layer_5/attention/self/value_p/bias:0 (float32_ref 768) [768, bytes: 3072]\nbert/encoder/layer_5/attention/output/dense_q/kernel:0 (float32_ref 768x768) [589824, bytes: 2359296]\nbert/encoder/layer_5/attention/output/dense_p/kernel:0 (float32_ref 768x768) [589824, bytes: 2359296]\nbert/encoder/layer_5/attention/output/dense_p/bias:0 (float32_ref 768) [768, bytes: 3072]\nbert/encoder/layer_5/attention/output/LayerNorm/beta:0 (float32_ref 768) [768, bytes: 3072]\nbert/encoder/layer_5/attention/output/LayerNorm/gamma:0 (float32_ref 768) [768, bytes: 3072]\nbert/encoder/layer_5/intermediate/dense_q/kernel:0 (float32_ref 768x768) [589824, bytes: 2359296]\nbert/encoder/layer_5/intermediate/dense_p/kernel:0 (float32_ref 768x3072) [2359296, bytes: 9437184]\nbert/encoder/layer_5/intermediate/dense_p/bias:0 (float32_ref 3072) [3072, bytes: 12288]\nbert/encoder/layer_5/output/dense_q/kernel:0 (float32_ref 3072x768) [2359296, bytes: 9437184]\nbert/encoder/layer_5/output/dense_p/kernel:0 (float32_ref 768x768) [589824, bytes: 2359296]\nbert/encoder/layer_5/output/dense_p/bias:0 (float32_ref 768) [768, bytes: 3072]\nbert/encoder/layer_5/output/LayerNorm/beta:0 (float32_ref 768) [768, bytes: 3072]\nbert/encoder/layer_5/output/LayerNorm/gamma:0 (float32_ref 768) [768, bytes: 3072]\nbert/encoder/layer_6/attention/self/query_q/kernel:0 (float32_ref 768x768) [589824, bytes: 2359296]\nbert/encoder/layer_6/attention/self/query_p/kernel:0 (float32_ref 768x768) [589824, bytes: 2359296]\nbert/encoder/layer_6/attention/self/query_p/bias:0 (float32_ref 768) [768, bytes: 3072]\nbert/encoder/layer_6/attention/self/key_q/kernel:0 (float32_ref 768x768) [589824, bytes: 2359296]\nbert/encoder/layer_6/attention/self/key_p/kernel:0 (float32_ref 768x768) [589824, bytes: 2359296]\nbert/encoder/layer_6/attention/self/key_p/bias:0 (float32_ref 768) [768, bytes: 3072]\nbert/encoder/layer_6/attention/self/value_q/kernel:0 (float32_ref 768x768) [589824, bytes: 2359296]\nbert/encoder/layer_6/attention/self/value_p/kernel:0 (float32_ref 768x768) [589824, bytes: 2359296]\nbert/encoder/layer_6/attention/self/value_p/bias:0 (float32_ref 768) [768, bytes: 3072]\nbert/encoder/layer_6/attention/output/dense_q/kernel:0 (float32_ref 768x768) [589824, bytes: 2359296]\nbert/encoder/layer_6/attention/output/dense_p/kernel:0 (float32_ref 768x768) [589824, bytes: 2359296]\nbert/encoder/layer_6/attention/output/dense_p/bias:0 (float32_ref 768) [768, bytes: 3072]\nbert/encoder/layer_6/attention/output/LayerNorm/beta:0 (float32_ref 768) [768, bytes: 3072]\nbert/encoder/layer_6/attention/output/LayerNorm/gamma:0 (float32_ref 768) [768, bytes: 3072]\nbert/encoder/layer_6/intermediate/dense_q/kernel:0 (float32_ref 768x768) [589824, bytes: 2359296]\nbert/encoder/layer_6/intermediate/dense_p/kernel:0 (float32_ref 768x3072) [2359296, bytes: 9437184]\nbert/encoder/layer_6/intermediate/dense_p/bias:0 (float32_ref 3072) [3072, bytes: 12288]\nbert/encoder/layer_6/output/dense_q/kernel:0 (float32_ref 3072x768) [2359296, bytes: 9437184]\nbert/encoder/layer_6/output/dense_p/kernel:0 (float32_ref 768x768) [589824, bytes: 2359296]\nbert/encoder/layer_6/output/dense_p/bias:0 (float32_ref 768) [768, bytes: 3072]\nbert/encoder/layer_6/output/LayerNorm/beta:0 (float32_ref 768) [768, bytes: 3072]\nbert/encoder/layer_6/output/LayerNorm/gamma:0 (float32_ref 768) [768, bytes: 3072]\nbert/encoder/layer_7/attention/self/query_q/kernel:0 (float32_ref 768x768) [589824, bytes: 2359296]\nbert/encoder/layer_7/attention/self/query_p/kernel:0 (float32_ref 768x768) [589824, bytes: 2359296]\nbert/encoder/layer_7/attention/self/query_p/bias:0 (float32_ref 768) [768, bytes: 3072]\nbert/encoder/layer_7/attention/self/key_q/kernel:0 (float32_ref 768x768) [589824, bytes: 2359296]\nbert/encoder/layer_7/attention/self/key_p/kernel:0 (float32_ref 768x768) [589824, bytes: 2359296]\nbert/encoder/layer_7/attention/self/key_p/bias:0 (float32_ref 768) [768, bytes: 3072]\nbert/encoder/layer_7/attention/self/value_q/kernel:0 (float32_ref 768x768) [589824, bytes: 2359296]\nbert/encoder/layer_7/attention/self/value_p/kernel:0 (float32_ref 768x768) [589824, bytes: 2359296]\nbert/encoder/layer_7/attention/self/value_p/bias:0 (float32_ref 768) [768, bytes: 3072]\nbert/encoder/layer_7/attention/output/dense_q/kernel:0 (float32_ref 768x768) [589824, bytes: 2359296]\nbert/encoder/layer_7/attention/output/dense_p/kernel:0 (float32_ref 768x768) [589824, bytes: 2359296]\nbert/encoder/layer_7/attention/output/dense_p/bias:0 (float32_ref 768) [768, bytes: 3072]\nbert/encoder/layer_7/attention/output/LayerNorm/beta:0 (float32_ref 768) [768, bytes: 3072]\nbert/encoder/layer_7/attention/output/LayerNorm/gamma:0 (float32_ref 768) [768, bytes: 3072]\nbert/encoder/layer_7/intermediate/dense_q/kernel:0 (float32_ref 768x768) [589824, bytes: 2359296]\nbert/encoder/layer_7/intermediate/dense_p/kernel:0 (float32_ref 768x3072) [2359296, bytes: 9437184]\nbert/encoder/layer_7/intermediate/dense_p/bias:0 (float32_ref 3072) [3072, bytes: 12288]\nbert/encoder/layer_7/output/dense_q/kernel:0 (float32_ref 3072x768) [2359296, bytes: 9437184]\nbert/encoder/layer_7/output/dense_p/kernel:0 (float32_ref 768x768) [589824, bytes: 2359296]\nbert/encoder/layer_7/output/dense_p/bias:0 (float32_ref 768) [768, bytes: 3072]\nbert/encoder/layer_7/output/LayerNorm/beta:0 (float32_ref 768) [768, bytes: 3072]\nbert/encoder/layer_7/output/LayerNorm/gamma:0 (float32_ref 768) [768, bytes: 3072]\nbert/encoder/layer_8/attention/self/query_q/kernel:0 (float32_ref 768x768) [589824, bytes: 2359296]\nbert/encoder/layer_8/attention/self/query_p/kernel:0 (float32_ref 768x768) [589824, bytes: 2359296]\nbert/encoder/layer_8/attention/self/query_p/bias:0 (float32_ref 768) [768, bytes: 3072]\nbert/encoder/layer_8/attention/self/key_q/kernel:0 (float32_ref 768x768) [589824, bytes: 2359296]\nbert/encoder/layer_8/attention/self/key_p/kernel:0 (float32_ref 768x768) [589824, bytes: 2359296]\nbert/encoder/layer_8/attention/self/key_p/bias:0 (float32_ref 768) [768, bytes: 3072]\nbert/encoder/layer_8/attention/self/value_q/kernel:0 (float32_ref 768x768) [589824, bytes: 2359296]\nbert/encoder/layer_8/attention/self/value_p/kernel:0 (float32_ref 768x768) [589824, bytes: 2359296]\nbert/encoder/layer_8/attention/self/value_p/bias:0 (float32_ref 768) [768, bytes: 3072]\nbert/encoder/layer_8/attention/output/dense_q/kernel:0 (float32_ref 768x768) [589824, bytes: 2359296]\nbert/encoder/layer_8/attention/output/dense_p/kernel:0 (float32_ref 768x768) [589824, bytes: 2359296]\nbert/encoder/layer_8/attention/output/dense_p/bias:0 (float32_ref 768) [768, bytes: 3072]\nbert/encoder/layer_8/attention/output/LayerNorm/beta:0 (float32_ref 768) [768, bytes: 3072]\nbert/encoder/layer_8/attention/output/LayerNorm/gamma:0 (float32_ref 768) [768, bytes: 3072]\nbert/encoder/layer_8/intermediate/dense_q/kernel:0 (float32_ref 768x768) [589824, bytes: 2359296]\nbert/encoder/layer_8/intermediate/dense_p/kernel:0 (float32_ref 768x3072) [2359296, bytes: 9437184]\nbert/encoder/layer_8/intermediate/dense_p/bias:0 (float32_ref 3072) [3072, bytes: 12288]\nbert/encoder/layer_8/output/dense_q/kernel:0 (float32_ref 3072x768) [2359296, bytes: 9437184]\nbert/encoder/layer_8/output/dense_p/kernel:0 (float32_ref 768x768) [589824, bytes: 2359296]\nbert/encoder/layer_8/output/dense_p/bias:0 (float32_ref 768) [768, bytes: 3072]\nbert/encoder/layer_8/output/LayerNorm/beta:0 (float32_ref 768) [768, bytes: 3072]\nbert/encoder/layer_8/output/LayerNorm/gamma:0 (float32_ref 768) [768, bytes: 3072]\nbert/encoder/layer_9/attention/self/query_q/kernel:0 (float32_ref 768x768) [589824, bytes: 2359296]\nbert/encoder/layer_9/attention/self/query_p/kernel:0 (float32_ref 768x768) [589824, bytes: 2359296]\nbert/encoder/layer_9/attention/self/query_p/bias:0 (float32_ref 768) [768, bytes: 3072]\nbert/encoder/layer_9/attention/self/key_q/kernel:0 (float32_ref 768x768) [589824, bytes: 2359296]\nbert/encoder/layer_9/attention/self/key_p/kernel:0 (float32_ref 768x768) [589824, bytes: 2359296]\nbert/encoder/layer_9/attention/self/key_p/bias:0 (float32_ref 768) [768, bytes: 3072]\nbert/encoder/layer_9/attention/self/value_q/kernel:0 (float32_ref 768x768) [589824, bytes: 2359296]\nbert/encoder/layer_9/attention/self/value_p/kernel:0 (float32_ref 768x768) [589824, bytes: 2359296]\nbert/encoder/layer_9/attention/self/value_p/bias:0 (float32_ref 768) [768, bytes: 3072]\nbert/encoder/layer_9/attention/output/dense_q/kernel:0 (float32_ref 768x768) [589824, bytes: 2359296]\nbert/encoder/layer_9/attention/output/dense_p/kernel:0 (float32_ref 768x768) [589824, bytes: 2359296]\nbert/encoder/layer_9/attention/output/dense_p/bias:0 (float32_ref 768) [768, bytes: 3072]\nbert/encoder/layer_9/attention/output/LayerNorm/beta:0 (float32_ref 768) [768, bytes: 3072]\nbert/encoder/layer_9/attention/output/LayerNorm/gamma:0 (float32_ref 768) [768, bytes: 3072]\nbert/encoder/layer_9/intermediate/dense_q/kernel:0 (float32_ref 768x768) [589824, bytes: 2359296]\nbert/encoder/layer_9/intermediate/dense_p/kernel:0 (float32_ref 768x3072) [2359296, bytes: 9437184]\nbert/encoder/layer_9/intermediate/dense_p/bias:0 (float32_ref 3072) [3072, bytes: 12288]\nbert/encoder/layer_9/output/dense_q/kernel:0 (float32_ref 3072x768) [2359296, bytes: 9437184]\nbert/encoder/layer_9/output/dense_p/kernel:0 (float32_ref 768x768) [589824, bytes: 2359296]\nbert/encoder/layer_9/output/dense_p/bias:0 (float32_ref 768) [768, bytes: 3072]\nbert/encoder/layer_9/output/LayerNorm/beta:0 (float32_ref 768) [768, bytes: 3072]\nbert/encoder/layer_9/output/LayerNorm/gamma:0 (float32_ref 768) [768, bytes: 3072]\nbert/encoder/layer_10/attention/self/query_q/kernel:0 (float32_ref 768x768) [589824, bytes: 2359296]\nbert/encoder/layer_10/attention/self/query_p/kernel:0 (float32_ref 768x768) [589824, bytes: 2359296]\nbert/encoder/layer_10/attention/self/query_p/bias:0 (float32_ref 768) [768, bytes: 3072]\nbert/encoder/layer_10/attention/self/key_q/kernel:0 (float32_ref 768x768) [589824, bytes: 2359296]\nbert/encoder/layer_10/attention/self/key_p/kernel:0 (float32_ref 768x768) [589824, bytes: 2359296]\nbert/encoder/layer_10/attention/self/key_p/bias:0 (float32_ref 768) [768, bytes: 3072]\nbert/encoder/layer_10/attention/self/value_q/kernel:0 (float32_ref 768x768) [589824, bytes: 2359296]\nbert/encoder/layer_10/attention/self/value_p/kernel:0 (float32_ref 768x768) [589824, bytes: 2359296]\nbert/encoder/layer_10/attention/self/value_p/bias:0 (float32_ref 768) [768, bytes: 3072]\nbert/encoder/layer_10/attention/output/dense_q/kernel:0 (float32_ref 768x768) [589824, bytes: 2359296]\nbert/encoder/layer_10/attention/output/dense_p/kernel:0 (float32_ref 768x768) [589824, bytes: 2359296]\nbert/encoder/layer_10/attention/output/dense_p/bias:0 (float32_ref 768) [768, bytes: 3072]\nbert/encoder/layer_10/attention/output/LayerNorm/beta:0 (float32_ref 768) [768, bytes: 3072]\nbert/encoder/layer_10/attention/output/LayerNorm/gamma:0 (float32_ref 768) [768, bytes: 3072]\nbert/encoder/layer_10/intermediate/dense_q/kernel:0 (float32_ref 768x768) [589824, bytes: 2359296]\nbert/encoder/layer_10/intermediate/dense_p/kernel:0 (float32_ref 768x3072) [2359296, bytes: 9437184]\nbert/encoder/layer_10/intermediate/dense_p/bias:0 (float32_ref 3072) [3072, bytes: 12288]\nbert/encoder/layer_10/output/dense_q/kernel:0 (float32_ref 3072x768) [2359296, bytes: 9437184]\nbert/encoder/layer_10/output/dense_p/kernel:0 (float32_ref 768x768) [589824, bytes: 2359296]\nbert/encoder/layer_10/output/dense_p/bias:0 (float32_ref 768) [768, bytes: 3072]\nbert/encoder/layer_10/output/LayerNorm/beta:0 (float32_ref 768) [768, bytes: 3072]\nbert/encoder/layer_10/output/LayerNorm/gamma:0 (float32_ref 768) [768, bytes: 3072]\nbert/encoder/layer_11/attention/self/query_q/kernel:0 (float32_ref 768x768) [589824, bytes: 2359296]\nbert/encoder/layer_11/attention/self/query_p/kernel:0 (float32_ref 768x768) [589824, bytes: 2359296]\nbert/encoder/layer_11/attention/self/query_p/bias:0 (float32_ref 768) [768, bytes: 3072]\nbert/encoder/layer_11/attention/self/key_q/kernel:0 (float32_ref 768x768) [589824, bytes: 2359296]\nbert/encoder/layer_11/attention/self/key_p/kernel:0 (float32_ref 768x768) [589824, bytes: 2359296]\nbert/encoder/layer_11/attention/self/key_p/bias:0 (float32_ref 768) [768, bytes: 3072]\nbert/encoder/layer_11/attention/self/value_q/kernel:0 (float32_ref 768x768) [589824, bytes: 2359296]\nbert/encoder/layer_11/attention/self/value_p/kernel:0 (float32_ref 768x768) [589824, bytes: 2359296]\nbert/encoder/layer_11/attention/self/value_p/bias:0 (float32_ref 768) [768, bytes: 3072]\nbert/encoder/layer_11/attention/output/dense_q/kernel:0 (float32_ref 768x768) [589824, bytes: 2359296]\nbert/encoder/layer_11/attention/output/dense_p/kernel:0 (float32_ref 768x768) [589824, bytes: 2359296]\nbert/encoder/layer_11/attention/output/dense_p/bias:0 (float32_ref 768) [768, bytes: 3072]\nbert/encoder/layer_11/attention/output/LayerNorm/beta:0 (float32_ref 768) [768, bytes: 3072]\nbert/encoder/layer_11/attention/output/LayerNorm/gamma:0 (float32_ref 768) [768, bytes: 3072]\nbert/encoder/layer_11/intermediate/dense_q/kernel:0 (float32_ref 768x768) [589824, bytes: 2359296]\nbert/encoder/layer_11/intermediate/dense_p/kernel:0 (float32_ref 768x3072) [2359296, bytes: 9437184]\nbert/encoder/layer_11/intermediate/dense_p/bias:0 (float32_ref 3072) [3072, bytes: 12288]\nbert/encoder/layer_11/output/dense_q/kernel:0 (float32_ref 3072x768) [2359296, bytes: 9437184]\nbert/encoder/layer_11/output/dense_p/kernel:0 (float32_ref 768x768) [589824, bytes: 2359296]\nbert/encoder/layer_11/output/dense_p/bias:0 (float32_ref 768) [768, bytes: 3072]\nbert/encoder/layer_11/output/LayerNorm/beta:0 (float32_ref 768) [768, bytes: 3072]\nbert/encoder/layer_11/output/LayerNorm/gamma:0 (float32_ref 768) [768, bytes: 3072]\nbert/pooler/dense/kernel:0 (float32_ref 768x768) [589824, bytes: 2359296]\nbert/pooler/dense/bias:0 (float32_ref 768) [768, bytes: 3072]\nTotal size of variables: 151949568\nTotal bytes of variables: 607798272\n"
    }
   ],
   "source": [
    "def model_summary():\n",
    "    model_vars = tf.trainable_variables()\n",
    "    slim.model_analyzer.analyze_vars(model_vars, print_info=True)\n",
    "\n",
    "model_summary()"
   ]
  },
  {
   "cell_type": "code",
   "execution_count": 4,
   "metadata": {},
   "outputs": [],
   "source": [
    "sess = tf.Session()\n",
    " # 保存路径\n",
    "tenboard_dir = './tensorboard/fractorized/123'\n",
    "\n",
    "# 指定一个文件用来保存图\n",
    "writer = tf.summary.FileWriter(tenboard_dir)\n",
    "# 把图add进去\n",
    "writer.add_graph(sess.graph)\n"
   ]
  },
  {
   "cell_type": "code",
   "execution_count": 8,
   "metadata": {
    "tags": [
     "outputPrepend",
     "outputPrepend",
     "outputPrepend",
     "outputPrepend",
     "outputPrepend",
     "outputPrepend",
     "outputPrepend",
     "outputPrepend",
     "outputPrepend",
     "outputPrepend"
    ]
   },
   "outputs": [
    {
     "output_type": "stream",
     "name": "stdout",
     "text": "INFO:tensorflow:Tensor: bert/encoder/layer_3/intermediate/dense_p/kernel:0 *INIT_FROM_CKPT*\nINFO:tensorflow:Tensor: bert/encoder/layer_3/intermediate/dense_q/kernel:0 *INIT_FROM_CKPT*\n[[-0.02733567  0.03307877 -0.01331289 ... -0.03766872 -0.01103309\n  -0.00891848]\n [-0.03209607 -0.08699457  0.00864887 ...  0.02761711  0.03704698\n   0.0407665 ]\n [ 0.00527224  0.0083868   0.05706076 ... -0.01937598  0.05206187\n   0.0878186 ]\n ...\n [-0.05675254  0.00993388  0.0246828  ...  0.02234653  0.0090737\n   0.00302651]\n [ 0.05268594 -0.05868094 -0.02675688 ...  0.01341528  0.01230162\n   0.02610132]\n [-0.05411405  0.03780412 -0.01292083 ...  0.01682481  0.0348397\n   0.00278786]]\n[[-0.02733567  0.03307878 -0.01331292 ... -0.0376687  -0.01103309\n  -0.00891848]\n [-0.03209604 -0.08699451  0.00864887 ...  0.0276171   0.03704699\n   0.0407665 ]\n [ 0.00527221  0.0083868   0.05706078 ... -0.01937598  0.05206185\n   0.08781863]\n ...\n [-0.05675246  0.00993389  0.02468281 ...  0.02234653  0.0090737\n   0.00302651]\n [ 0.05268592 -0.05868094 -0.02675687 ...  0.01341527  0.01230162\n   0.02610133]\n [-0.05411408  0.03780412 -0.01292083 ...  0.0168248   0.03483968\n   0.00278786]]\n6.366916e-06\nINFO:tensorflow:Tensor: bert/encoder/layer_3/attention/self/value_p/kernel:0 *INIT_FROM_CKPT*\nINFO:tensorflow:Tensor: bert/encoder/layer_3/attention/self/value_q/kernel:0 *INIT_FROM_CKPT*\n[[-0.00539031  0.00959643  0.01325458 ...  0.02559289 -0.02173652\n   0.00856149]\n [ 0.01871786 -0.01533358  0.02134762 ...  0.00510337 -0.0110246\n   0.03574178]\n [ 0.038927    0.00691893  0.00040985 ... -0.03827812 -0.00081437\n  -0.04596529]\n ...\n [-0.00693013  0.00677365 -0.02088944 ...  0.03424503 -0.04541178\n  -0.03965134]\n [ 0.03039893 -0.00041303 -0.01731354 ...  0.03286893 -0.01643537\n   0.02660156]\n [-0.00812953  0.00462472 -0.01060062 ...  0.00355934 -0.00364465\n  -0.01729577]]\n[[-0.00539032  0.00959642  0.01325458 ...  0.02559291 -0.02173651\n   0.00856149]\n [ 0.01871786 -0.01533357  0.02134763 ...  0.00510337 -0.01102461\n   0.03574177]\n [ 0.03892701  0.00691893  0.00040986 ... -0.03827811 -0.00081437\n  -0.04596528]\n ...\n [-0.00693013  0.00677365 -0.02088944 ...  0.03424503 -0.04541182\n  -0.03965136]\n [ 0.03039894 -0.00041302 -0.01731355 ...  0.03286896 -0.01643537\n   0.02660155]\n [-0.00812954  0.00462472 -0.01060062 ...  0.00355935 -0.00364465\n  -0.01729578]]\n-4.462051e-06\nINFO:tensorflow:Tensor: bert/encoder/layer_0/attention/self/key_p/kernel:0 *INIT_FROM_CKPT*\nINFO:tensorflow:Tensor: bert/encoder/layer_0/attention/self/key_q/kernel:0 *INIT_FROM_CKPT*\n[[ 0.00807745  0.02652156 -0.01866493 ...  0.01992275 -0.05401429\n   0.00665249]\n [-0.03746541 -0.06353708 -0.01720341 ... -0.01892635  0.02281839\n  -0.04996569]\n [ 0.02009305  0.01703898 -0.03403276 ... -0.01072326 -0.01813656\n   0.02214305]\n ...\n [ 0.01423455 -0.01712371 -0.02691721 ...  0.01832676 -0.00757702\n  -0.00538188]\n [-0.01373071 -0.04264865 -0.04364488 ... -0.05683501 -0.01887501\n  -0.0029659 ]\n [-0.00918064  0.0163167  -0.01134321 ...  0.08440515 -0.066142\n  -0.00175535]]\n[[ 0.00807745  0.02652155 -0.01866494 ...  0.01992275 -0.05401429\n   0.00665248]\n [-0.03746541 -0.06353705 -0.01720341 ... -0.01892635  0.0228184\n  -0.04996569]\n [ 0.02009306  0.01703898 -0.03403276 ... -0.01072329 -0.01813656\n   0.02214303]\n ...\n [ 0.01423457 -0.0171237  -0.02691722 ...  0.01832675 -0.007577\n  -0.00538187]\n [-0.01373073 -0.04264867 -0.04364486 ... -0.05683498 -0.01887502\n  -0.00296593]\n [-0.00918065  0.01631671 -0.01134321 ...  0.08440514 -0.06614199\n  -0.00175535]]\n6.5614436e-06\nINFO:tensorflow:Tensor: bert/encoder/layer_11/attention/output/LayerNorm/beta:0 *INIT_FROM_CKPT*\nINFO:tensorflow:Tensor: bert/embeddings/LayerNorm/beta:0 *INIT_FROM_CKPT*\nINFO:tensorflow:Tensor: bert/encoder/layer_2/intermediate/dense_p/kernel:0 *INIT_FROM_CKPT*\nINFO:tensorflow:Tensor: bert/encoder/layer_2/intermediate/dense_q/kernel:0 *INIT_FROM_CKPT*\n[[-0.0161992   0.00662887  0.01492281 ... -0.0206892  -0.00525438\n   0.01076459]\n [-0.00879077 -0.04554747  0.03172656 ...  0.0313166  -0.05275016\n  -0.05704618]\n [-0.01776279  0.01597914  0.0113811  ... -0.01941255  0.02014309\n  -0.00910668]\n ...\n [ 0.04490114  0.05559575  0.07736727 ...  0.06299877  0.00733581\n   0.09901416]\n [-0.04152549 -0.01200888  0.00713825 ... -0.03134891  0.04195482\n   0.01875827]\n [ 0.0542173  -0.01348292  0.01508046 ... -0.00301282 -0.00544722\n  -0.0339492 ]]\n[[-0.01619919  0.00662888  0.01492284 ... -0.02068919 -0.00525438\n   0.01076458]\n [-0.00879076 -0.04554748  0.03172658 ...  0.0313166  -0.05275018\n  -0.05704617]\n [-0.0177628   0.01597917  0.0113811  ... -0.01941254  0.02014307\n  -0.0091067 ]\n ...\n [ 0.0449011   0.05559565  0.07736727 ...  0.06299879  0.00733582\n   0.09901413]\n [-0.04152552 -0.01200889  0.00713826 ... -0.03134889  0.04195483\n   0.01875826]\n [ 0.05421725 -0.0134829   0.01508047 ... -0.00301283 -0.00544723\n  -0.03394923]]\n2.9173216e-06\nINFO:tensorflow:Tensor: bert/encoder/layer_7/intermediate/dense_p/kernel:0 *INIT_FROM_CKPT*\nINFO:tensorflow:Tensor: bert/encoder/layer_7/intermediate/dense_q/kernel:0 *INIT_FROM_CKPT*\n"
    },
    {
     "output_type": "error",
     "ename": "KeyboardInterrupt",
     "evalue": "",
     "traceback": [
      "\u001b[0;31m---------------------------------------------------------------------------\u001b[0m",
      "\u001b[0;31mKeyboardInterrupt\u001b[0m                         Traceback (most recent call last)",
      "\u001b[0;32m<ipython-input-8-b4ce31147b4b>\u001b[0m in \u001b[0;36m<module>\u001b[0;34m\u001b[0m\n\u001b[1;32m     33\u001b[0m         \u001b[0mtf\u001b[0m\u001b[0;34m.\u001b[0m\u001b[0mlogging\u001b[0m\u001b[0;34m.\u001b[0m\u001b[0minfo\u001b[0m\u001b[0;34m(\u001b[0m\u001b[0;34m\"Tensor: %s %s\"\u001b[0m\u001b[0;34m,\u001b[0m \u001b[0mp\u001b[0m\u001b[0;34m,\u001b[0m \u001b[0;34m\"*INIT_FROM_CKPT*\"\u001b[0m\u001b[0;34m)\u001b[0m\u001b[0;34m\u001b[0m\u001b[0;34m\u001b[0m\u001b[0m\n\u001b[1;32m     34\u001b[0m         \u001b[0mtf\u001b[0m\u001b[0;34m.\u001b[0m\u001b[0mlogging\u001b[0m\u001b[0;34m.\u001b[0m\u001b[0minfo\u001b[0m\u001b[0;34m(\u001b[0m\u001b[0;34m\"Tensor: %s %s\"\u001b[0m\u001b[0;34m,\u001b[0m \u001b[0mq\u001b[0m\u001b[0;34m,\u001b[0m \u001b[0;34m\"*INIT_FROM_CKPT*\"\u001b[0m\u001b[0;34m)\u001b[0m\u001b[0;34m\u001b[0m\u001b[0;34m\u001b[0m\u001b[0m\n\u001b[0;32m---> 35\u001b[0;31m         \u001b[0msess\u001b[0m\u001b[0;34m.\u001b[0m\u001b[0mrun\u001b[0m\u001b[0;34m(\u001b[0m\u001b[0mtf\u001b[0m\u001b[0;34m.\u001b[0m\u001b[0massign\u001b[0m\u001b[0;34m(\u001b[0m\u001b[0mp_var\u001b[0m\u001b[0;34m,\u001b[0m \u001b[0mp_mat\u001b[0m\u001b[0;34m)\u001b[0m\u001b[0;34m)\u001b[0m\u001b[0;34m\u001b[0m\u001b[0;34m\u001b[0m\u001b[0m\n\u001b[0m\u001b[1;32m     36\u001b[0m         \u001b[0msess\u001b[0m\u001b[0;34m.\u001b[0m\u001b[0mrun\u001b[0m\u001b[0;34m(\u001b[0m\u001b[0mtf\u001b[0m\u001b[0;34m.\u001b[0m\u001b[0massign\u001b[0m\u001b[0;34m(\u001b[0m\u001b[0mq_var\u001b[0m\u001b[0;34m,\u001b[0m \u001b[0mq_mat\u001b[0m\u001b[0;34m)\u001b[0m\u001b[0;34m)\u001b[0m\u001b[0;34m\u001b[0m\u001b[0;34m\u001b[0m\u001b[0m\n\u001b[1;32m     37\u001b[0m         \u001b[0mprint\u001b[0m\u001b[0;34m(\u001b[0m\u001b[0msess\u001b[0m\u001b[0;34m.\u001b[0m\u001b[0mrun\u001b[0m\u001b[0;34m(\u001b[0m\u001b[0mtf\u001b[0m\u001b[0;34m.\u001b[0m\u001b[0mmatmul\u001b[0m\u001b[0;34m(\u001b[0m\u001b[0mp_var\u001b[0m\u001b[0;34m,\u001b[0m \u001b[0mq_var\u001b[0m\u001b[0;34m)\u001b[0m\u001b[0;34m)\u001b[0m\u001b[0;34m)\u001b[0m\u001b[0;34m\u001b[0m\u001b[0;34m\u001b[0m\u001b[0m\n",
      "\u001b[0;32m~/anaconda3/envs/tensorflow-1.15.0/lib/python3.7/site-packages/tensorflow_core/python/client/session.py\u001b[0m in \u001b[0;36mrun\u001b[0;34m(self, fetches, feed_dict, options, run_metadata)\u001b[0m\n\u001b[1;32m    954\u001b[0m     \u001b[0;32mtry\u001b[0m\u001b[0;34m:\u001b[0m\u001b[0;34m\u001b[0m\u001b[0;34m\u001b[0m\u001b[0m\n\u001b[1;32m    955\u001b[0m       result = self._run(None, fetches, feed_dict, options_ptr,\n\u001b[0;32m--> 956\u001b[0;31m                          run_metadata_ptr)\n\u001b[0m\u001b[1;32m    957\u001b[0m       \u001b[0;32mif\u001b[0m \u001b[0mrun_metadata\u001b[0m\u001b[0;34m:\u001b[0m\u001b[0;34m\u001b[0m\u001b[0;34m\u001b[0m\u001b[0m\n\u001b[1;32m    958\u001b[0m         \u001b[0mproto_data\u001b[0m \u001b[0;34m=\u001b[0m \u001b[0mtf_session\u001b[0m\u001b[0;34m.\u001b[0m\u001b[0mTF_GetBuffer\u001b[0m\u001b[0;34m(\u001b[0m\u001b[0mrun_metadata_ptr\u001b[0m\u001b[0;34m)\u001b[0m\u001b[0;34m\u001b[0m\u001b[0;34m\u001b[0m\u001b[0m\n",
      "\u001b[0;32m~/anaconda3/envs/tensorflow-1.15.0/lib/python3.7/site-packages/tensorflow_core/python/client/session.py\u001b[0m in \u001b[0;36m_run\u001b[0;34m(self, handle, fetches, feed_dict, options, run_metadata)\u001b[0m\n\u001b[1;32m   1178\u001b[0m     \u001b[0;32mif\u001b[0m \u001b[0mfinal_fetches\u001b[0m \u001b[0;32mor\u001b[0m \u001b[0mfinal_targets\u001b[0m \u001b[0;32mor\u001b[0m \u001b[0;34m(\u001b[0m\u001b[0mhandle\u001b[0m \u001b[0;32mand\u001b[0m \u001b[0mfeed_dict_tensor\u001b[0m\u001b[0;34m)\u001b[0m\u001b[0;34m:\u001b[0m\u001b[0;34m\u001b[0m\u001b[0;34m\u001b[0m\u001b[0m\n\u001b[1;32m   1179\u001b[0m       results = self._do_run(handle, final_targets, final_fetches,\n\u001b[0;32m-> 1180\u001b[0;31m                              feed_dict_tensor, options, run_metadata)\n\u001b[0m\u001b[1;32m   1181\u001b[0m     \u001b[0;32melse\u001b[0m\u001b[0;34m:\u001b[0m\u001b[0;34m\u001b[0m\u001b[0;34m\u001b[0m\u001b[0m\n\u001b[1;32m   1182\u001b[0m       \u001b[0mresults\u001b[0m \u001b[0;34m=\u001b[0m \u001b[0;34m[\u001b[0m\u001b[0;34m]\u001b[0m\u001b[0;34m\u001b[0m\u001b[0;34m\u001b[0m\u001b[0m\n",
      "\u001b[0;32m~/anaconda3/envs/tensorflow-1.15.0/lib/python3.7/site-packages/tensorflow_core/python/client/session.py\u001b[0m in \u001b[0;36m_do_run\u001b[0;34m(self, handle, target_list, fetch_list, feed_dict, options, run_metadata)\u001b[0m\n\u001b[1;32m   1357\u001b[0m     \u001b[0;32mif\u001b[0m \u001b[0mhandle\u001b[0m \u001b[0;32mis\u001b[0m \u001b[0;32mNone\u001b[0m\u001b[0;34m:\u001b[0m\u001b[0;34m\u001b[0m\u001b[0;34m\u001b[0m\u001b[0m\n\u001b[1;32m   1358\u001b[0m       return self._do_call(_run_fn, feeds, fetches, targets, options,\n\u001b[0;32m-> 1359\u001b[0;31m                            run_metadata)\n\u001b[0m\u001b[1;32m   1360\u001b[0m     \u001b[0;32melse\u001b[0m\u001b[0;34m:\u001b[0m\u001b[0;34m\u001b[0m\u001b[0;34m\u001b[0m\u001b[0m\n\u001b[1;32m   1361\u001b[0m       \u001b[0;32mreturn\u001b[0m \u001b[0mself\u001b[0m\u001b[0;34m.\u001b[0m\u001b[0m_do_call\u001b[0m\u001b[0;34m(\u001b[0m\u001b[0m_prun_fn\u001b[0m\u001b[0;34m,\u001b[0m \u001b[0mhandle\u001b[0m\u001b[0;34m,\u001b[0m \u001b[0mfeeds\u001b[0m\u001b[0;34m,\u001b[0m \u001b[0mfetches\u001b[0m\u001b[0;34m)\u001b[0m\u001b[0;34m\u001b[0m\u001b[0;34m\u001b[0m\u001b[0m\n",
      "\u001b[0;32m~/anaconda3/envs/tensorflow-1.15.0/lib/python3.7/site-packages/tensorflow_core/python/client/session.py\u001b[0m in \u001b[0;36m_do_call\u001b[0;34m(self, fn, *args)\u001b[0m\n\u001b[1;32m   1363\u001b[0m   \u001b[0;32mdef\u001b[0m \u001b[0m_do_call\u001b[0m\u001b[0;34m(\u001b[0m\u001b[0mself\u001b[0m\u001b[0;34m,\u001b[0m \u001b[0mfn\u001b[0m\u001b[0;34m,\u001b[0m \u001b[0;34m*\u001b[0m\u001b[0margs\u001b[0m\u001b[0;34m)\u001b[0m\u001b[0;34m:\u001b[0m\u001b[0;34m\u001b[0m\u001b[0;34m\u001b[0m\u001b[0m\n\u001b[1;32m   1364\u001b[0m     \u001b[0;32mtry\u001b[0m\u001b[0;34m:\u001b[0m\u001b[0;34m\u001b[0m\u001b[0;34m\u001b[0m\u001b[0m\n\u001b[0;32m-> 1365\u001b[0;31m       \u001b[0;32mreturn\u001b[0m \u001b[0mfn\u001b[0m\u001b[0;34m(\u001b[0m\u001b[0;34m*\u001b[0m\u001b[0margs\u001b[0m\u001b[0;34m)\u001b[0m\u001b[0;34m\u001b[0m\u001b[0;34m\u001b[0m\u001b[0m\n\u001b[0m\u001b[1;32m   1366\u001b[0m     \u001b[0;32mexcept\u001b[0m \u001b[0merrors\u001b[0m\u001b[0;34m.\u001b[0m\u001b[0mOpError\u001b[0m \u001b[0;32mas\u001b[0m \u001b[0me\u001b[0m\u001b[0;34m:\u001b[0m\u001b[0;34m\u001b[0m\u001b[0;34m\u001b[0m\u001b[0m\n\u001b[1;32m   1367\u001b[0m       \u001b[0mmessage\u001b[0m \u001b[0;34m=\u001b[0m \u001b[0mcompat\u001b[0m\u001b[0;34m.\u001b[0m\u001b[0mas_text\u001b[0m\u001b[0;34m(\u001b[0m\u001b[0me\u001b[0m\u001b[0;34m.\u001b[0m\u001b[0mmessage\u001b[0m\u001b[0;34m)\u001b[0m\u001b[0;34m\u001b[0m\u001b[0;34m\u001b[0m\u001b[0m\n",
      "\u001b[0;32m~/anaconda3/envs/tensorflow-1.15.0/lib/python3.7/site-packages/tensorflow_core/python/client/session.py\u001b[0m in \u001b[0;36m_run_fn\u001b[0;34m(feed_dict, fetch_list, target_list, options, run_metadata)\u001b[0m\n\u001b[1;32m   1348\u001b[0m       \u001b[0mself\u001b[0m\u001b[0;34m.\u001b[0m\u001b[0m_extend_graph\u001b[0m\u001b[0;34m(\u001b[0m\u001b[0;34m)\u001b[0m\u001b[0;34m\u001b[0m\u001b[0;34m\u001b[0m\u001b[0m\n\u001b[1;32m   1349\u001b[0m       return self._call_tf_sessionrun(options, feed_dict, fetch_list,\n\u001b[0;32m-> 1350\u001b[0;31m                                       target_list, run_metadata)\n\u001b[0m\u001b[1;32m   1351\u001b[0m \u001b[0;34m\u001b[0m\u001b[0m\n\u001b[1;32m   1352\u001b[0m     \u001b[0;32mdef\u001b[0m \u001b[0m_prun_fn\u001b[0m\u001b[0;34m(\u001b[0m\u001b[0mhandle\u001b[0m\u001b[0;34m,\u001b[0m \u001b[0mfeed_dict\u001b[0m\u001b[0;34m,\u001b[0m \u001b[0mfetch_list\u001b[0m\u001b[0;34m)\u001b[0m\u001b[0;34m:\u001b[0m\u001b[0;34m\u001b[0m\u001b[0;34m\u001b[0m\u001b[0m\n",
      "\u001b[0;32m~/anaconda3/envs/tensorflow-1.15.0/lib/python3.7/site-packages/tensorflow_core/python/client/session.py\u001b[0m in \u001b[0;36m_call_tf_sessionrun\u001b[0;34m(self, options, feed_dict, fetch_list, target_list, run_metadata)\u001b[0m\n\u001b[1;32m   1441\u001b[0m     return tf_session.TF_SessionRun_wrapper(self._session, options, feed_dict,\n\u001b[1;32m   1442\u001b[0m                                             \u001b[0mfetch_list\u001b[0m\u001b[0;34m,\u001b[0m \u001b[0mtarget_list\u001b[0m\u001b[0;34m,\u001b[0m\u001b[0;34m\u001b[0m\u001b[0;34m\u001b[0m\u001b[0m\n\u001b[0;32m-> 1443\u001b[0;31m                                             run_metadata)\n\u001b[0m\u001b[1;32m   1444\u001b[0m \u001b[0;34m\u001b[0m\u001b[0m\n\u001b[1;32m   1445\u001b[0m   \u001b[0;32mdef\u001b[0m \u001b[0m_call_tf_sessionprun\u001b[0m\u001b[0;34m(\u001b[0m\u001b[0mself\u001b[0m\u001b[0;34m,\u001b[0m \u001b[0mhandle\u001b[0m\u001b[0;34m,\u001b[0m \u001b[0mfeed_dict\u001b[0m\u001b[0;34m,\u001b[0m \u001b[0mfetch_list\u001b[0m\u001b[0;34m)\u001b[0m\u001b[0;34m:\u001b[0m\u001b[0;34m\u001b[0m\u001b[0;34m\u001b[0m\u001b[0m\n",
      "\u001b[0;31mKeyboardInterrupt\u001b[0m: "
     ]
    }
   ],
   "source": [
    "import os\n",
    "from tensorflow.python import pywrap_tensorflow\n",
    "import re\n",
    "import copy\n",
    "import factorize\n",
    "import numpy as np\n",
    "checkpoint_path = os.path.join(\"/data0/ultraman/uncased_L-12_H-768_A-12/\", \"bert_model.ckpt\")\n",
    "reader = pywrap_tensorflow.NewCheckpointReader(checkpoint_path) #tf.train.NewCheckpointReader\n",
    "var_to_shape_map = reader.get_variable_to_shape_map()\n",
    "kernel_pattern = \"^bert/encoder/.*((query|key|value)|(dense))/kernel$\"\n",
    "bias_pattern = \"^bert/encoder/.*((query|key|value)|(dense))/bias$\"\n",
    "tvar = tf.trainable_variables()\n",
    "tvar_names = []\n",
    "sess = tf.Session()\n",
    "sess.run(tf.global_variables_initializer())\n",
    "for var in tvar:\n",
    "    tvar_names.append(var.name)\n",
    "for key in var_to_shape_map:\n",
    "    if re.match(bias_pattern, key):\n",
    "        q = factorize.bias_map(key)\n",
    "        q_var = [v for v in tvar if v.name == q][0]\n",
    "        tf.logging.info(\"Tensor: %s %s\", q, \"*INIT_FROM_CKPT*\")\n",
    "        sess.run(tf.assign(q_var, reader.get_tensor(key)))\n",
    "        tvar_names.remove(q)\n",
    "    elif re.match(kernel_pattern, key):\n",
    "        p, q = factorize.kernel_map(key)\n",
    "        p_var = [v for v in tvar if v.name == p][0]\n",
    "        q_var = [v for v in tvar if v.name == q][0]\n",
    "        u, s, v = np.linalg.svd(reader.get_tensor(key))\n",
    "        smat = np.zeros((u.shape[0], v.shape[0]))\n",
    "        smat[:s.shape[0], :s.shape[0]] = np.diag(s)\n",
    "        q_mat = np.dot(smat, v)\n",
    "        p_mat = u\n",
    "        tf.logging.info(\"Tensor: %s %s\", p, \"*INIT_FROM_CKPT*\")\n",
    "        tf.logging.info(\"Tensor: %s %s\", q, \"*INIT_FROM_CKPT*\")\n",
    "        sess.run(tf.assign(p_var, p_mat))\n",
    "        sess.run(tf.assign(q_var, q_mat))\n",
    "        tvar_names.remove(p)\n",
    "        tvar_names.remove(q)\n",
    "        pass\n",
    "    elif key + \":0\" in tvar_names:\n",
    "        var = [v for v in tvar if v.name == key + \":0\"][0]\n",
    "        tf.logging.info(\"Tensor: %s %s\", key + \":0\", \"*INIT_FROM_CKPT*\")\n",
    "        sess.run(tf.assign(var, reader.get_tensor(key)))\n",
    "        tvar_names.remove(key + \":0\")\n",
    "        pass\n",
    "    else:\n",
    "        pass\n",
    "for var_name in tvar_names:\n",
    "    tf.logging.info(\"Tensor: %s %s\", var_name, \"*NOT_INIT_FROM_CKPT*\")\n",
    "saver = tf.train.Saver()\n",
    "saver.save(sess,\"./checkpoint_dir/bert_f.ckpt\")\n",
    "\n"
   ]
  },
  {
   "cell_type": "code",
   "execution_count": 7,
   "metadata": {
    "tags": [
     "outputPrepend"
    ]
   },
   "outputs": [
    {
     "output_type": "stream",
     "name": "stdout",
     "text": "bert/embeddings/word_embeddings:0\nbert/embeddings/token_type_embeddings:0\nbert/embeddings/position_embeddings:0\nbert/embeddings/LayerNorm/beta:0\nbert/embeddings/LayerNorm/gamma:0\nbert/encoder/layer_0/attention/self/query_q/kernel:0\nbert/encoder/layer_0/attention/self/query_p/kernel:0\nbert/encoder/layer_0/attention/self/query_p/bias:0\nbert/encoder/layer_0/attention/self/key_q/kernel:0\nbert/encoder/layer_0/attention/self/key_p/kernel:0\nbert/encoder/layer_0/attention/self/key_p/bias:0\nbert/encoder/layer_0/attention/self/value_q/kernel:0\nbert/encoder/layer_0/attention/self/value_p/kernel:0\nbert/encoder/layer_0/attention/self/value_p/bias:0\nbert/encoder/layer_0/attention/output/dense_q/kernel:0\nbert/encoder/layer_0/attention/output/dense_p/kernel:0\nbert/encoder/layer_0/attention/output/dense_p/bias:0\nbert/encoder/layer_0/attention/output/LayerNorm/beta:0\nbert/encoder/layer_0/attention/output/LayerNorm/gamma:0\nbert/encoder/layer_0/intermediate/dense_q/kernel:0\nbert/encoder/layer_0/intermediate/dense_p/kernel:0\nbert/encoder/layer_0/intermediate/dense_p/bias:0\nbert/encoder/layer_0/output/dense_q/kernel:0\nbert/encoder/layer_0/output/dense_p/kernel:0\nbert/encoder/layer_0/output/dense_p/bias:0\nbert/encoder/layer_0/output/LayerNorm/beta:0\nbert/encoder/layer_0/output/LayerNorm/gamma:0\nbert/encoder/layer_1/attention/self/query_q/kernel:0\nbert/encoder/layer_1/attention/self/query_p/kernel:0\nbert/encoder/layer_1/attention/self/query_p/bias:0\nbert/encoder/layer_1/attention/self/key_q/kernel:0\nbert/encoder/layer_1/attention/self/key_p/kernel:0\nbert/encoder/layer_1/attention/self/key_p/bias:0\nbert/encoder/layer_1/attention/self/value_q/kernel:0\nbert/encoder/layer_1/attention/self/value_p/kernel:0\nbert/encoder/layer_1/attention/self/value_p/bias:0\nbert/encoder/layer_1/attention/output/dense_q/kernel:0\nbert/encoder/layer_1/attention/output/dense_p/kernel:0\nbert/encoder/layer_1/attention/output/dense_p/bias:0\nbert/encoder/layer_1/attention/output/LayerNorm/beta:0\nbert/encoder/layer_1/attention/output/LayerNorm/gamma:0\nbert/encoder/layer_1/intermediate/dense_q/kernel:0\nbert/encoder/layer_1/intermediate/dense_p/kernel:0\nbert/encoder/layer_1/intermediate/dense_p/bias:0\nbert/encoder/layer_1/output/dense_q/kernel:0\nbert/encoder/layer_1/output/dense_p/kernel:0\nbert/encoder/layer_1/output/dense_p/bias:0\nbert/encoder/layer_1/output/LayerNorm/beta:0\nbert/encoder/layer_1/output/LayerNorm/gamma:0\nbert/encoder/layer_2/attention/self/query_q/kernel:0\nbert/encoder/layer_2/attention/self/query_p/kernel:0\nbert/encoder/layer_2/attention/self/query_p/bias:0\nbert/encoder/layer_2/attention/self/key_q/kernel:0\nbert/encoder/layer_2/attention/self/key_p/kernel:0\nbert/encoder/layer_2/attention/self/key_p/bias:0\nbert/encoder/layer_2/attention/self/value_q/kernel:0\nbert/encoder/layer_2/attention/self/value_p/kernel:0\nbert/encoder/layer_2/attention/self/value_p/bias:0\nbert/encoder/layer_2/attention/output/dense_q/kernel:0\nbert/encoder/layer_2/attention/output/dense_p/kernel:0\nbert/encoder/layer_2/attention/output/dense_p/bias:0\nbert/encoder/layer_2/attention/output/LayerNorm/beta:0\nbert/encoder/layer_2/attention/output/LayerNorm/gamma:0\nbert/encoder/layer_2/intermediate/dense_q/kernel:0\nbert/encoder/layer_2/intermediate/dense_p/kernel:0\nbert/encoder/layer_2/intermediate/dense_p/bias:0\nbert/encoder/layer_2/output/dense_q/kernel:0\nbert/encoder/layer_2/output/dense_p/kernel:0\nbert/encoder/layer_2/output/dense_p/bias:0\nbert/encoder/layer_2/output/LayerNorm/beta:0\nbert/encoder/layer_2/output/LayerNorm/gamma:0\nbert/encoder/layer_3/attention/self/query_q/kernel:0\nbert/encoder/layer_3/attention/self/query_p/kernel:0\nbert/encoder/layer_3/attention/self/query_p/bias:0\nbert/encoder/layer_3/attention/self/key_q/kernel:0\nbert/encoder/layer_3/attention/self/key_p/kernel:0\nbert/encoder/layer_3/attention/self/key_p/bias:0\nbert/encoder/layer_3/attention/self/value_q/kernel:0\nbert/encoder/layer_3/attention/self/value_p/kernel:0\nbert/encoder/layer_3/attention/self/value_p/bias:0\nbert/encoder/layer_3/attention/output/dense_q/kernel:0\nbert/encoder/layer_3/attention/output/dense_p/kernel:0\nbert/encoder/layer_3/attention/output/dense_p/bias:0\nbert/encoder/layer_3/attention/output/LayerNorm/beta:0\nbert/encoder/layer_3/attention/output/LayerNorm/gamma:0\nbert/encoder/layer_3/intermediate/dense_q/kernel:0\nbert/encoder/layer_3/intermediate/dense_p/kernel:0\nbert/encoder/layer_3/intermediate/dense_p/bias:0\nbert/encoder/layer_3/output/dense_q/kernel:0\nbert/encoder/layer_3/output/dense_p/kernel:0\nbert/encoder/layer_3/output/dense_p/bias:0\nbert/encoder/layer_3/output/LayerNorm/beta:0\nbert/encoder/layer_3/output/LayerNorm/gamma:0\nbert/encoder/layer_4/attention/self/query_q/kernel:0\nbert/encoder/layer_4/attention/self/query_p/kernel:0\nbert/encoder/layer_4/attention/self/query_p/bias:0\nbert/encoder/layer_4/attention/self/key_q/kernel:0\nbert/encoder/layer_4/attention/self/key_p/kernel:0\nbert/encoder/layer_4/attention/self/key_p/bias:0\nbert/encoder/layer_4/attention/self/value_q/kernel:0\nbert/encoder/layer_4/attention/self/value_p/kernel:0\nbert/encoder/layer_4/attention/self/value_p/bias:0\nbert/encoder/layer_4/attention/output/dense_q/kernel:0\nbert/encoder/layer_4/attention/output/dense_p/kernel:0\nbert/encoder/layer_4/attention/output/dense_p/bias:0\nbert/encoder/layer_4/attention/output/LayerNorm/beta:0\nbert/encoder/layer_4/attention/output/LayerNorm/gamma:0\nbert/encoder/layer_4/intermediate/dense_q/kernel:0\nbert/encoder/layer_4/intermediate/dense_p/kernel:0\nbert/encoder/layer_4/intermediate/dense_p/bias:0\nbert/encoder/layer_4/output/dense_q/kernel:0\nbert/encoder/layer_4/output/dense_p/kernel:0\nbert/encoder/layer_4/output/dense_p/bias:0\nbert/encoder/layer_4/output/LayerNorm/beta:0\nbert/encoder/layer_4/output/LayerNorm/gamma:0\nbert/encoder/layer_5/attention/self/query_q/kernel:0\nbert/encoder/layer_5/attention/self/query_p/kernel:0\nbert/encoder/layer_5/attention/self/query_p/bias:0\nbert/encoder/layer_5/attention/self/key_q/kernel:0\nbert/encoder/layer_5/attention/self/key_p/kernel:0\nbert/encoder/layer_5/attention/self/key_p/bias:0\nbert/encoder/layer_5/attention/self/value_q/kernel:0\nbert/encoder/layer_5/attention/self/value_p/kernel:0\nbert/encoder/layer_5/attention/self/value_p/bias:0\nbert/encoder/layer_5/attention/output/dense_q/kernel:0\nbert/encoder/layer_5/attention/output/dense_p/kernel:0\nbert/encoder/layer_5/attention/output/dense_p/bias:0\nbert/encoder/layer_5/attention/output/LayerNorm/beta:0\nbert/encoder/layer_5/attention/output/LayerNorm/gamma:0\nbert/encoder/layer_5/intermediate/dense_q/kernel:0\nbert/encoder/layer_5/intermediate/dense_p/kernel:0\nbert/encoder/layer_5/intermediate/dense_p/bias:0\nbert/encoder/layer_5/output/dense_q/kernel:0\nbert/encoder/layer_5/output/dense_p/kernel:0\nbert/encoder/layer_5/output/dense_p/bias:0\nbert/encoder/layer_5/output/LayerNorm/beta:0\nbert/encoder/layer_5/output/LayerNorm/gamma:0\nbert/encoder/layer_6/attention/self/query_q/kernel:0\nbert/encoder/layer_6/attention/self/query_p/kernel:0\nbert/encoder/layer_6/attention/self/query_p/bias:0\nbert/encoder/layer_6/attention/self/key_q/kernel:0\nbert/encoder/layer_6/attention/self/key_p/kernel:0\nbert/encoder/layer_6/attention/self/key_p/bias:0\nbert/encoder/layer_6/attention/self/value_q/kernel:0\nbert/encoder/layer_6/attention/self/value_p/kernel:0\nbert/encoder/layer_6/attention/self/value_p/bias:0\nbert/encoder/layer_6/attention/output/dense_q/kernel:0\nbert/encoder/layer_6/attention/output/dense_p/kernel:0\nbert/encoder/layer_6/attention/output/dense_p/bias:0\nbert/encoder/layer_6/attention/output/LayerNorm/beta:0\nbert/encoder/layer_6/attention/output/LayerNorm/gamma:0\nbert/encoder/layer_6/intermediate/dense_q/kernel:0\nbert/encoder/layer_6/intermediate/dense_p/kernel:0\nbert/encoder/layer_6/intermediate/dense_p/bias:0\nbert/encoder/layer_6/output/dense_q/kernel:0\nbert/encoder/layer_6/output/dense_p/kernel:0\nbert/encoder/layer_6/output/dense_p/bias:0\nbert/encoder/layer_6/output/LayerNorm/beta:0\nbert/encoder/layer_6/output/LayerNorm/gamma:0\nbert/encoder/layer_7/attention/self/query_q/kernel:0\nbert/encoder/layer_7/attention/self/query_p/kernel:0\nbert/encoder/layer_7/attention/self/query_p/bias:0\nbert/encoder/layer_7/attention/self/key_q/kernel:0\nbert/encoder/layer_7/attention/self/key_p/kernel:0\nbert/encoder/layer_7/attention/self/key_p/bias:0\nbert/encoder/layer_7/attention/self/value_q/kernel:0\nbert/encoder/layer_7/attention/self/value_p/kernel:0\nbert/encoder/layer_7/attention/self/value_p/bias:0\nbert/encoder/layer_7/attention/output/dense_q/kernel:0\nbert/encoder/layer_7/attention/output/dense_p/kernel:0\nbert/encoder/layer_7/attention/output/dense_p/bias:0\nbert/encoder/layer_7/attention/output/LayerNorm/beta:0\nbert/encoder/layer_7/attention/output/LayerNorm/gamma:0\nbert/encoder/layer_7/intermediate/dense_q/kernel:0\nbert/encoder/layer_7/intermediate/dense_p/kernel:0\nbert/encoder/layer_7/intermediate/dense_p/bias:0\nbert/encoder/layer_7/output/dense_q/kernel:0\nbert/encoder/layer_7/output/dense_p/kernel:0\nbert/encoder/layer_7/output/dense_p/bias:0\nbert/encoder/layer_7/output/LayerNorm/beta:0\nbert/encoder/layer_7/output/LayerNorm/gamma:0\nbert/encoder/layer_8/attention/self/query_q/kernel:0\nbert/encoder/layer_8/attention/self/query_p/kernel:0\nbert/encoder/layer_8/attention/self/query_p/bias:0\nbert/encoder/layer_8/attention/self/key_q/kernel:0\nbert/encoder/layer_8/attention/self/key_p/kernel:0\nbert/encoder/layer_8/attention/self/key_p/bias:0\nbert/encoder/layer_8/attention/self/value_q/kernel:0\nbert/encoder/layer_8/attention/self/value_p/kernel:0\nbert/encoder/layer_8/attention/self/value_p/bias:0\nbert/encoder/layer_8/attention/output/dense_q/kernel:0\nbert/encoder/layer_8/attention/output/dense_p/kernel:0\nbert/encoder/layer_8/attention/output/dense_p/bias:0\nbert/encoder/layer_8/attention/output/LayerNorm/beta:0\nbert/encoder/layer_8/attention/output/LayerNorm/gamma:0\nbert/encoder/layer_8/intermediate/dense_q/kernel:0\nbert/encoder/layer_8/intermediate/dense_p/kernel:0\nbert/encoder/layer_8/intermediate/dense_p/bias:0\nbert/encoder/layer_8/output/dense_q/kernel:0\nbert/encoder/layer_8/output/dense_p/kernel:0\nbert/encoder/layer_8/output/dense_p/bias:0\nbert/encoder/layer_8/output/LayerNorm/beta:0\nbert/encoder/layer_8/output/LayerNorm/gamma:0\nbert/encoder/layer_9/attention/self/query_q/kernel:0\nbert/encoder/layer_9/attention/self/query_p/kernel:0\nbert/encoder/layer_9/attention/self/query_p/bias:0\nbert/encoder/layer_9/attention/self/key_q/kernel:0\nbert/encoder/layer_9/attention/self/key_p/kernel:0\nbert/encoder/layer_9/attention/self/key_p/bias:0\nbert/encoder/layer_9/attention/self/value_q/kernel:0\nbert/encoder/layer_9/attention/self/value_p/kernel:0\nbert/encoder/layer_9/attention/self/value_p/bias:0\nbert/encoder/layer_9/attention/output/dense_q/kernel:0\nbert/encoder/layer_9/attention/output/dense_p/kernel:0\nbert/encoder/layer_9/attention/output/dense_p/bias:0\nbert/encoder/layer_9/attention/output/LayerNorm/beta:0\nbert/encoder/layer_9/attention/output/LayerNorm/gamma:0\nbert/encoder/layer_9/intermediate/dense_q/kernel:0\nbert/encoder/layer_9/intermediate/dense_p/kernel:0\nbert/encoder/layer_9/intermediate/dense_p/bias:0\nbert/encoder/layer_9/output/dense_q/kernel:0\nbert/encoder/layer_9/output/dense_p/kernel:0\nbert/encoder/layer_9/output/dense_p/bias:0\nbert/encoder/layer_9/output/LayerNorm/beta:0\nbert/encoder/layer_9/output/LayerNorm/gamma:0\nbert/encoder/layer_10/attention/self/query_q/kernel:0\nbert/encoder/layer_10/attention/self/query_p/kernel:0\nbert/encoder/layer_10/attention/self/query_p/bias:0\nbert/encoder/layer_10/attention/self/key_q/kernel:0\nbert/encoder/layer_10/attention/self/key_p/kernel:0\nbert/encoder/layer_10/attention/self/key_p/bias:0\nbert/encoder/layer_10/attention/self/value_q/kernel:0\nbert/encoder/layer_10/attention/self/value_p/kernel:0\nbert/encoder/layer_10/attention/self/value_p/bias:0\nbert/encoder/layer_10/attention/output/dense_q/kernel:0\nbert/encoder/layer_10/attention/output/dense_p/kernel:0\nbert/encoder/layer_10/attention/output/dense_p/bias:0\nbert/encoder/layer_10/attention/output/LayerNorm/beta:0\nbert/encoder/layer_10/attention/output/LayerNorm/gamma:0\nbert/encoder/layer_10/intermediate/dense_q/kernel:0\nbert/encoder/layer_10/intermediate/dense_p/kernel:0\nbert/encoder/layer_10/intermediate/dense_p/bias:0\nbert/encoder/layer_10/output/dense_q/kernel:0\nbert/encoder/layer_10/output/dense_p/kernel:0\nbert/encoder/layer_10/output/dense_p/bias:0\nbert/encoder/layer_10/output/LayerNorm/beta:0\nbert/encoder/layer_10/output/LayerNorm/gamma:0\nbert/encoder/layer_11/attention/self/query_q/kernel:0\nbert/encoder/layer_11/attention/self/query_p/kernel:0\nbert/encoder/layer_11/attention/self/query_p/bias:0\nbert/encoder/layer_11/attention/self/key_q/kernel:0\nbert/encoder/layer_11/attention/self/key_p/kernel:0\nbert/encoder/layer_11/attention/self/key_p/bias:0\nbert/encoder/layer_11/attention/self/value_q/kernel:0\nbert/encoder/layer_11/attention/self/value_p/kernel:0\nbert/encoder/layer_11/attention/self/value_p/bias:0\nbert/encoder/layer_11/attention/output/dense_q/kernel:0\nbert/encoder/layer_11/attention/output/dense_p/kernel:0\nbert/encoder/layer_11/attention/output/dense_p/bias:0\nbert/encoder/layer_11/attention/output/LayerNorm/beta:0\nbert/encoder/layer_11/attention/output/LayerNorm/gamma:0\nbert/encoder/layer_11/intermediate/dense_q/kernel:0\nbert/encoder/layer_11/intermediate/dense_p/kernel:0\nbert/encoder/layer_11/intermediate/dense_p/bias:0\nbert/encoder/layer_11/output/dense_q/kernel:0\nbert/encoder/layer_11/output/dense_p/kernel:0\nbert/encoder/layer_11/output/dense_p/bias:0\nbert/encoder/layer_11/output/LayerNorm/beta:0\nbert/encoder/layer_11/output/LayerNorm/gamma:0\nbert/pooler/dense/kernel:0\nbert/pooler/dense/bias:0\n"
    }
   ],
   "source": [
    "for var in tf.trainable_variables():\n",
    "    print(var.name)"
   ]
  },
  {
   "cell_type": "code",
   "execution_count": 29,
   "metadata": {},
   "outputs": [
    {
     "output_type": "stream",
     "name": "stdout",
     "text": "[[-0.56959484 -0.82192562]\n [-0.82192562  0.56959484]]\n[[6.54675564 0.        ]\n [0.         0.37415323]]\n[[-0.33809817 -0.55064932 -0.76320047]\n [ 0.84795222  0.17354729 -0.50085764]\n [ 0.40824829 -0.81649658  0.40824829]]\n[[6.54675564 0.         0.        ]\n [0.         0.37415323 0.        ]]\n[[-3.72899821 -0.30752612  0.        ]\n [-5.38094617  0.21311575  0.        ]]\n[[1. 2. 3.]\n [2. 3. 4.]]\n"
    }
   ],
   "source": [
    "from tensorflow.python.ops import gen_array_ops\n",
    "import tensorflow as tf\n",
    "import numpy as np\n",
    "\n",
    "data = np.array([[1, 2, 3], [2, 3, 4]])\n",
    "u, s, v = np.linalg.svd(data)\n",
    "print(u)\n",
    "print(np.diag(s))\n",
    "print(v)\n",
    "smat = np.zeros((2, 3))\n",
    "smat[:2, :2] = np.diag(s)\n",
    "print(smat)\n",
    "one = np.dot(u, smat)\n",
    "print(one)\n",
    "print(np.dot(one, v))"
   ]
  },
  {
   "cell_type": "code",
   "execution_count": null,
   "metadata": {},
   "outputs": [],
   "source": []
  }
 ],
 "metadata": {
  "language_info": {
   "codemirror_mode": {
    "name": "ipython",
    "version": 3
   },
   "file_extension": ".py",
   "mimetype": "text/x-python",
   "name": "python",
   "nbconvert_exporter": "python",
   "pygments_lexer": "ipython3",
   "version": "3.7.6-final"
  },
  "orig_nbformat": 2,
  "kernelspec": {
   "name": "python37664bittensorflow1150conda8bb332f9e6b3404787b6eb268bc0904a",
   "display_name": "Python 3.7.6 64-bit ('tensorflow-1.15.0': conda)"
  }
 },
 "nbformat": 4,
 "nbformat_minor": 2
}